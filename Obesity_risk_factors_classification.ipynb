{
 "cells": [
  {
   "cell_type": "markdown",
   "id": "4af04d53",
   "metadata": {},
   "source": [
    "# Obesity risk factors classification"
   ]
  },
  {
   "cell_type": "code",
   "execution_count": 1,
   "id": "1cdb0b84",
   "metadata": {},
   "outputs": [],
   "source": [
    "# import the nescessary libraries\n",
    "import numpy as np\n",
    "import pandas as pd\n",
    "import matplotlib as mpl\n",
    "import matplotlib.pyplot as plt\n",
    "import seaborn as sns\n",
    "from sklearn import naive_bayes\n",
    "from sklearn import svm\n",
    "from sklearn import ensemble\n",
    "from sklearn.model_selection import train_test_split\n",
    "from sklearn.model_selection import cross_val_score\n",
    "from sklearn.metrics import accuracy_score\n",
    "from sklearn.metrics import confusion_matrix"
   ]
  },
  {
   "cell_type": "code",
   "execution_count": 2,
   "id": "ec837903",
   "metadata": {},
   "outputs": [
    {
     "data": {
      "text/html": [
       "<div>\n",
       "<style scoped>\n",
       "    .dataframe tbody tr th:only-of-type {\n",
       "        vertical-align: middle;\n",
       "    }\n",
       "\n",
       "    .dataframe tbody tr th {\n",
       "        vertical-align: top;\n",
       "    }\n",
       "\n",
       "    .dataframe thead th {\n",
       "        text-align: right;\n",
       "    }\n",
       "</style>\n",
       "<table border=\"1\" class=\"dataframe\">\n",
       "  <thead>\n",
       "    <tr style=\"text-align: right;\">\n",
       "      <th></th>\n",
       "      <th>Gender</th>\n",
       "      <th>Age</th>\n",
       "      <th>Height</th>\n",
       "      <th>Weight</th>\n",
       "      <th>family_history_with_overweight</th>\n",
       "      <th>FAVC</th>\n",
       "      <th>FCVC</th>\n",
       "      <th>NCP</th>\n",
       "      <th>CAEC</th>\n",
       "      <th>SMOKE</th>\n",
       "      <th>CH2O</th>\n",
       "      <th>SCC</th>\n",
       "      <th>FAF</th>\n",
       "      <th>TUE</th>\n",
       "      <th>CALC</th>\n",
       "      <th>MTRANS</th>\n",
       "      <th>NObeyesdad</th>\n",
       "    </tr>\n",
       "  </thead>\n",
       "  <tbody>\n",
       "    <tr>\n",
       "      <th>0</th>\n",
       "      <td>Female</td>\n",
       "      <td>21.0</td>\n",
       "      <td>1.62</td>\n",
       "      <td>64.0</td>\n",
       "      <td>yes</td>\n",
       "      <td>no</td>\n",
       "      <td>2.0</td>\n",
       "      <td>3.0</td>\n",
       "      <td>Sometimes</td>\n",
       "      <td>no</td>\n",
       "      <td>2.0</td>\n",
       "      <td>no</td>\n",
       "      <td>0.0</td>\n",
       "      <td>1.0</td>\n",
       "      <td>no</td>\n",
       "      <td>Public_Transportation</td>\n",
       "      <td>Normal_Weight</td>\n",
       "    </tr>\n",
       "    <tr>\n",
       "      <th>1</th>\n",
       "      <td>Female</td>\n",
       "      <td>21.0</td>\n",
       "      <td>1.52</td>\n",
       "      <td>56.0</td>\n",
       "      <td>yes</td>\n",
       "      <td>no</td>\n",
       "      <td>3.0</td>\n",
       "      <td>3.0</td>\n",
       "      <td>Sometimes</td>\n",
       "      <td>yes</td>\n",
       "      <td>3.0</td>\n",
       "      <td>yes</td>\n",
       "      <td>3.0</td>\n",
       "      <td>0.0</td>\n",
       "      <td>Sometimes</td>\n",
       "      <td>Public_Transportation</td>\n",
       "      <td>Normal_Weight</td>\n",
       "    </tr>\n",
       "    <tr>\n",
       "      <th>2</th>\n",
       "      <td>Male</td>\n",
       "      <td>23.0</td>\n",
       "      <td>1.80</td>\n",
       "      <td>77.0</td>\n",
       "      <td>yes</td>\n",
       "      <td>no</td>\n",
       "      <td>2.0</td>\n",
       "      <td>3.0</td>\n",
       "      <td>Sometimes</td>\n",
       "      <td>no</td>\n",
       "      <td>2.0</td>\n",
       "      <td>no</td>\n",
       "      <td>2.0</td>\n",
       "      <td>1.0</td>\n",
       "      <td>Frequently</td>\n",
       "      <td>Public_Transportation</td>\n",
       "      <td>Normal_Weight</td>\n",
       "    </tr>\n",
       "    <tr>\n",
       "      <th>3</th>\n",
       "      <td>Male</td>\n",
       "      <td>27.0</td>\n",
       "      <td>1.80</td>\n",
       "      <td>87.0</td>\n",
       "      <td>no</td>\n",
       "      <td>no</td>\n",
       "      <td>3.0</td>\n",
       "      <td>3.0</td>\n",
       "      <td>Sometimes</td>\n",
       "      <td>no</td>\n",
       "      <td>2.0</td>\n",
       "      <td>no</td>\n",
       "      <td>2.0</td>\n",
       "      <td>0.0</td>\n",
       "      <td>Frequently</td>\n",
       "      <td>Walking</td>\n",
       "      <td>Overweight_Level_I</td>\n",
       "    </tr>\n",
       "    <tr>\n",
       "      <th>4</th>\n",
       "      <td>Male</td>\n",
       "      <td>22.0</td>\n",
       "      <td>1.78</td>\n",
       "      <td>89.8</td>\n",
       "      <td>no</td>\n",
       "      <td>no</td>\n",
       "      <td>2.0</td>\n",
       "      <td>1.0</td>\n",
       "      <td>Sometimes</td>\n",
       "      <td>no</td>\n",
       "      <td>2.0</td>\n",
       "      <td>no</td>\n",
       "      <td>0.0</td>\n",
       "      <td>0.0</td>\n",
       "      <td>Sometimes</td>\n",
       "      <td>Public_Transportation</td>\n",
       "      <td>Overweight_Level_II</td>\n",
       "    </tr>\n",
       "  </tbody>\n",
       "</table>\n",
       "</div>"
      ],
      "text/plain": [
       "   Gender   Age  Height  Weight family_history_with_overweight FAVC  FCVC  \\\n",
       "0  Female  21.0    1.62    64.0                            yes   no   2.0   \n",
       "1  Female  21.0    1.52    56.0                            yes   no   3.0   \n",
       "2    Male  23.0    1.80    77.0                            yes   no   2.0   \n",
       "3    Male  27.0    1.80    87.0                             no   no   3.0   \n",
       "4    Male  22.0    1.78    89.8                             no   no   2.0   \n",
       "\n",
       "   NCP       CAEC SMOKE  CH2O  SCC  FAF  TUE        CALC  \\\n",
       "0  3.0  Sometimes    no   2.0   no  0.0  1.0          no   \n",
       "1  3.0  Sometimes   yes   3.0  yes  3.0  0.0   Sometimes   \n",
       "2  3.0  Sometimes    no   2.0   no  2.0  1.0  Frequently   \n",
       "3  3.0  Sometimes    no   2.0   no  2.0  0.0  Frequently   \n",
       "4  1.0  Sometimes    no   2.0   no  0.0  0.0   Sometimes   \n",
       "\n",
       "                  MTRANS           NObeyesdad  \n",
       "0  Public_Transportation        Normal_Weight  \n",
       "1  Public_Transportation        Normal_Weight  \n",
       "2  Public_Transportation        Normal_Weight  \n",
       "3                Walking   Overweight_Level_I  \n",
       "4  Public_Transportation  Overweight_Level_II  "
      ]
     },
     "execution_count": 2,
     "metadata": {},
     "output_type": "execute_result"
    }
   ],
   "source": [
    "#importing the dataset\n",
    "file_path = 'ObesityDataSet_raw_and_data_sinthetic.csv'\n",
    "data = pd.read_csv(file_path)\n",
    "data.head()"
   ]
  },
  {
   "cell_type": "code",
   "execution_count": 3,
   "id": "5e04f842",
   "metadata": {},
   "outputs": [
    {
     "name": "stdout",
     "output_type": "stream",
     "text": [
      "Gender                             object\n",
      "Age                               float64\n",
      "Height                            float64\n",
      "Weight                            float64\n",
      "family_history_with_overweight     object\n",
      "FAVC                               object\n",
      "FCVC                              float64\n",
      "NCP                               float64\n",
      "CAEC                               object\n",
      "SMOKE                              object\n",
      "CH2O                              float64\n",
      "SCC                                object\n",
      "FAF                               float64\n",
      "TUE                               float64\n",
      "CALC                               object\n",
      "MTRANS                             object\n",
      "NObeyesdad                         object\n",
      "dtype: object\n",
      "(2111, 17)\n"
     ]
    }
   ],
   "source": [
    "#checking for the data size and types\n",
    "print(data.dtypes)\n",
    "print(data.shape)"
   ]
  },
  {
   "cell_type": "markdown",
   "id": "a0a1faeb",
   "metadata": {},
   "source": [
    "### Data cleaning and processing"
   ]
  },
  {
   "cell_type": "code",
   "execution_count": 4,
   "id": "7bb80df1",
   "metadata": {},
   "outputs": [
    {
     "data": {
      "text/plain": [
       "Gender                            0\n",
       "Age                               0\n",
       "Height                            0\n",
       "Weight                            0\n",
       "family_history_with_overweight    0\n",
       "FAVC                              0\n",
       "FCVC                              0\n",
       "NCP                               0\n",
       "CAEC                              0\n",
       "SMOKE                             0\n",
       "CH2O                              0\n",
       "SCC                               0\n",
       "FAF                               0\n",
       "TUE                               0\n",
       "CALC                              0\n",
       "MTRANS                            0\n",
       "NObeyesdad                        0\n",
       "dtype: int64"
      ]
     },
     "execution_count": 4,
     "metadata": {},
     "output_type": "execute_result"
    }
   ],
   "source": [
    "# checking for the null value in dataset\n",
    "data.isnull().sum()"
   ]
  },
  {
   "cell_type": "markdown",
   "id": "ddbe79ed",
   "metadata": {},
   "source": [
    "since there is no null value we can continue to data processing"
   ]
  },
  {
   "cell_type": "code",
   "execution_count": 5,
   "id": "5a256b06",
   "metadata": {},
   "outputs": [],
   "source": [
    "# radomizing the order in dataset\n",
    "data = data.sample(frac=1, random_state=45).reset_index(drop=True)"
   ]
  },
  {
   "cell_type": "code",
   "execution_count": 6,
   "id": "af991449",
   "metadata": {},
   "outputs": [
    {
     "data": {
      "text/html": [
       "<div>\n",
       "<style scoped>\n",
       "    .dataframe tbody tr th:only-of-type {\n",
       "        vertical-align: middle;\n",
       "    }\n",
       "\n",
       "    .dataframe tbody tr th {\n",
       "        vertical-align: top;\n",
       "    }\n",
       "\n",
       "    .dataframe thead th {\n",
       "        text-align: right;\n",
       "    }\n",
       "</style>\n",
       "<table border=\"1\" class=\"dataframe\">\n",
       "  <thead>\n",
       "    <tr style=\"text-align: right;\">\n",
       "      <th></th>\n",
       "      <th>Gender</th>\n",
       "      <th>Age</th>\n",
       "      <th>Height</th>\n",
       "      <th>Weight</th>\n",
       "      <th>family_history_with_overweight</th>\n",
       "      <th>FAVC</th>\n",
       "      <th>FCVC</th>\n",
       "      <th>NCP</th>\n",
       "      <th>CAEC</th>\n",
       "      <th>SMOKE</th>\n",
       "      <th>CH2O</th>\n",
       "      <th>SCC</th>\n",
       "      <th>FAF</th>\n",
       "      <th>TUE</th>\n",
       "      <th>CALC</th>\n",
       "      <th>MTRANS</th>\n",
       "    </tr>\n",
       "  </thead>\n",
       "  <tbody>\n",
       "    <tr>\n",
       "      <th>0</th>\n",
       "      <td>Female</td>\n",
       "      <td>37.631769</td>\n",
       "      <td>1.513202</td>\n",
       "      <td>75.410647</td>\n",
       "      <td>yes</td>\n",
       "      <td>yes</td>\n",
       "      <td>2.0</td>\n",
       "      <td>2.582591</td>\n",
       "      <td>Sometimes</td>\n",
       "      <td>no</td>\n",
       "      <td>1.535134</td>\n",
       "      <td>no</td>\n",
       "      <td>1.884520</td>\n",
       "      <td>0.000000</td>\n",
       "      <td>Sometimes</td>\n",
       "      <td>Automobile</td>\n",
       "    </tr>\n",
       "    <tr>\n",
       "      <th>1</th>\n",
       "      <td>Female</td>\n",
       "      <td>25.897815</td>\n",
       "      <td>1.664463</td>\n",
       "      <td>102.781971</td>\n",
       "      <td>yes</td>\n",
       "      <td>yes</td>\n",
       "      <td>3.0</td>\n",
       "      <td>3.000000</td>\n",
       "      <td>Sometimes</td>\n",
       "      <td>no</td>\n",
       "      <td>1.068493</td>\n",
       "      <td>no</td>\n",
       "      <td>0.112122</td>\n",
       "      <td>1.000000</td>\n",
       "      <td>Sometimes</td>\n",
       "      <td>Public_Transportation</td>\n",
       "    </tr>\n",
       "    <tr>\n",
       "      <th>2</th>\n",
       "      <td>Female</td>\n",
       "      <td>18.000000</td>\n",
       "      <td>1.620000</td>\n",
       "      <td>68.000000</td>\n",
       "      <td>no</td>\n",
       "      <td>no</td>\n",
       "      <td>2.0</td>\n",
       "      <td>1.000000</td>\n",
       "      <td>Sometimes</td>\n",
       "      <td>no</td>\n",
       "      <td>1.000000</td>\n",
       "      <td>no</td>\n",
       "      <td>0.000000</td>\n",
       "      <td>2.000000</td>\n",
       "      <td>no</td>\n",
       "      <td>Public_Transportation</td>\n",
       "    </tr>\n",
       "    <tr>\n",
       "      <th>3</th>\n",
       "      <td>Male</td>\n",
       "      <td>18.014333</td>\n",
       "      <td>1.751029</td>\n",
       "      <td>80.000000</td>\n",
       "      <td>yes</td>\n",
       "      <td>yes</td>\n",
       "      <td>2.0</td>\n",
       "      <td>2.805436</td>\n",
       "      <td>Sometimes</td>\n",
       "      <td>no</td>\n",
       "      <td>2.122884</td>\n",
       "      <td>no</td>\n",
       "      <td>0.045651</td>\n",
       "      <td>0.017225</td>\n",
       "      <td>Frequently</td>\n",
       "      <td>Public_Transportation</td>\n",
       "    </tr>\n",
       "    <tr>\n",
       "      <th>4</th>\n",
       "      <td>Male</td>\n",
       "      <td>23.083621</td>\n",
       "      <td>1.848553</td>\n",
       "      <td>121.421121</td>\n",
       "      <td>yes</td>\n",
       "      <td>yes</td>\n",
       "      <td>3.0</td>\n",
       "      <td>2.567567</td>\n",
       "      <td>Sometimes</td>\n",
       "      <td>no</td>\n",
       "      <td>2.011023</td>\n",
       "      <td>no</td>\n",
       "      <td>0.916478</td>\n",
       "      <td>0.000000</td>\n",
       "      <td>Sometimes</td>\n",
       "      <td>Public_Transportation</td>\n",
       "    </tr>\n",
       "  </tbody>\n",
       "</table>\n",
       "</div>"
      ],
      "text/plain": [
       "   Gender        Age    Height      Weight family_history_with_overweight  \\\n",
       "0  Female  37.631769  1.513202   75.410647                            yes   \n",
       "1  Female  25.897815  1.664463  102.781971                            yes   \n",
       "2  Female  18.000000  1.620000   68.000000                             no   \n",
       "3    Male  18.014333  1.751029   80.000000                            yes   \n",
       "4    Male  23.083621  1.848553  121.421121                            yes   \n",
       "\n",
       "  FAVC  FCVC       NCP       CAEC SMOKE      CH2O SCC       FAF       TUE  \\\n",
       "0  yes   2.0  2.582591  Sometimes    no  1.535134  no  1.884520  0.000000   \n",
       "1  yes   3.0  3.000000  Sometimes    no  1.068493  no  0.112122  1.000000   \n",
       "2   no   2.0  1.000000  Sometimes    no  1.000000  no  0.000000  2.000000   \n",
       "3  yes   2.0  2.805436  Sometimes    no  2.122884  no  0.045651  0.017225   \n",
       "4  yes   3.0  2.567567  Sometimes    no  2.011023  no  0.916478  0.000000   \n",
       "\n",
       "         CALC                 MTRANS  \n",
       "0   Sometimes             Automobile  \n",
       "1   Sometimes  Public_Transportation  \n",
       "2          no  Public_Transportation  \n",
       "3  Frequently  Public_Transportation  \n",
       "4   Sometimes  Public_Transportation  "
      ]
     },
     "execution_count": 6,
     "metadata": {},
     "output_type": "execute_result"
    }
   ],
   "source": [
    "# seperating data into classes and variables\n",
    "variables = data.iloc[:,: -1]\n",
    "classes = data.iloc[:, -1]\n",
    "variables.head()"
   ]
  },
  {
   "cell_type": "code",
   "execution_count": 7,
   "id": "bcde07ad",
   "metadata": {},
   "outputs": [
    {
     "data": {
      "text/html": [
       "<div>\n",
       "<style scoped>\n",
       "    .dataframe tbody tr th:only-of-type {\n",
       "        vertical-align: middle;\n",
       "    }\n",
       "\n",
       "    .dataframe tbody tr th {\n",
       "        vertical-align: top;\n",
       "    }\n",
       "\n",
       "    .dataframe thead th {\n",
       "        text-align: right;\n",
       "    }\n",
       "</style>\n",
       "<table border=\"1\" class=\"dataframe\">\n",
       "  <thead>\n",
       "    <tr style=\"text-align: right;\">\n",
       "      <th></th>\n",
       "      <th>Gender</th>\n",
       "      <th>Age</th>\n",
       "      <th>family_history_with_overweight</th>\n",
       "      <th>FAVC</th>\n",
       "      <th>FCVC</th>\n",
       "      <th>NCP</th>\n",
       "      <th>CAEC</th>\n",
       "      <th>SMOKE</th>\n",
       "      <th>CH2O</th>\n",
       "      <th>SCC</th>\n",
       "      <th>FAF</th>\n",
       "      <th>TUE</th>\n",
       "      <th>CALC</th>\n",
       "      <th>MTRANS</th>\n",
       "    </tr>\n",
       "  </thead>\n",
       "  <tbody>\n",
       "    <tr>\n",
       "      <th>0</th>\n",
       "      <td>Female</td>\n",
       "      <td>37.631769</td>\n",
       "      <td>yes</td>\n",
       "      <td>yes</td>\n",
       "      <td>2.0</td>\n",
       "      <td>2.582591</td>\n",
       "      <td>Sometimes</td>\n",
       "      <td>no</td>\n",
       "      <td>1.535134</td>\n",
       "      <td>no</td>\n",
       "      <td>1.884520</td>\n",
       "      <td>0.000000</td>\n",
       "      <td>Sometimes</td>\n",
       "      <td>Automobile</td>\n",
       "    </tr>\n",
       "    <tr>\n",
       "      <th>1</th>\n",
       "      <td>Female</td>\n",
       "      <td>25.897815</td>\n",
       "      <td>yes</td>\n",
       "      <td>yes</td>\n",
       "      <td>3.0</td>\n",
       "      <td>3.000000</td>\n",
       "      <td>Sometimes</td>\n",
       "      <td>no</td>\n",
       "      <td>1.068493</td>\n",
       "      <td>no</td>\n",
       "      <td>0.112122</td>\n",
       "      <td>1.000000</td>\n",
       "      <td>Sometimes</td>\n",
       "      <td>Public_Transportation</td>\n",
       "    </tr>\n",
       "    <tr>\n",
       "      <th>2</th>\n",
       "      <td>Female</td>\n",
       "      <td>18.000000</td>\n",
       "      <td>no</td>\n",
       "      <td>no</td>\n",
       "      <td>2.0</td>\n",
       "      <td>1.000000</td>\n",
       "      <td>Sometimes</td>\n",
       "      <td>no</td>\n",
       "      <td>1.000000</td>\n",
       "      <td>no</td>\n",
       "      <td>0.000000</td>\n",
       "      <td>2.000000</td>\n",
       "      <td>no</td>\n",
       "      <td>Public_Transportation</td>\n",
       "    </tr>\n",
       "    <tr>\n",
       "      <th>3</th>\n",
       "      <td>Male</td>\n",
       "      <td>18.014333</td>\n",
       "      <td>yes</td>\n",
       "      <td>yes</td>\n",
       "      <td>2.0</td>\n",
       "      <td>2.805436</td>\n",
       "      <td>Sometimes</td>\n",
       "      <td>no</td>\n",
       "      <td>2.122884</td>\n",
       "      <td>no</td>\n",
       "      <td>0.045651</td>\n",
       "      <td>0.017225</td>\n",
       "      <td>Frequently</td>\n",
       "      <td>Public_Transportation</td>\n",
       "    </tr>\n",
       "    <tr>\n",
       "      <th>4</th>\n",
       "      <td>Male</td>\n",
       "      <td>23.083621</td>\n",
       "      <td>yes</td>\n",
       "      <td>yes</td>\n",
       "      <td>3.0</td>\n",
       "      <td>2.567567</td>\n",
       "      <td>Sometimes</td>\n",
       "      <td>no</td>\n",
       "      <td>2.011023</td>\n",
       "      <td>no</td>\n",
       "      <td>0.916478</td>\n",
       "      <td>0.000000</td>\n",
       "      <td>Sometimes</td>\n",
       "      <td>Public_Transportation</td>\n",
       "    </tr>\n",
       "  </tbody>\n",
       "</table>\n",
       "</div>"
      ],
      "text/plain": [
       "   Gender        Age family_history_with_overweight FAVC  FCVC       NCP  \\\n",
       "0  Female  37.631769                            yes  yes   2.0  2.582591   \n",
       "1  Female  25.897815                            yes  yes   3.0  3.000000   \n",
       "2  Female  18.000000                             no   no   2.0  1.000000   \n",
       "3    Male  18.014333                            yes  yes   2.0  2.805436   \n",
       "4    Male  23.083621                            yes  yes   3.0  2.567567   \n",
       "\n",
       "        CAEC SMOKE      CH2O SCC       FAF       TUE        CALC  \\\n",
       "0  Sometimes    no  1.535134  no  1.884520  0.000000   Sometimes   \n",
       "1  Sometimes    no  1.068493  no  0.112122  1.000000   Sometimes   \n",
       "2  Sometimes    no  1.000000  no  0.000000  2.000000          no   \n",
       "3  Sometimes    no  2.122884  no  0.045651  0.017225  Frequently   \n",
       "4  Sometimes    no  2.011023  no  0.916478  0.000000   Sometimes   \n",
       "\n",
       "                  MTRANS  \n",
       "0             Automobile  \n",
       "1  Public_Transportation  \n",
       "2  Public_Transportation  \n",
       "3  Public_Transportation  \n",
       "4  Public_Transportation  "
      ]
     },
     "execution_count": 7,
     "metadata": {},
     "output_type": "execute_result"
    }
   ],
   "source": [
    "# since height and weight is a function of body type, we will drop these two variables to focus on the other risk factors\n",
    "variables = variables.drop('Height', axis=1)\n",
    "variables = variables.drop('Weight', axis=1)\n",
    "variables.head()"
   ]
  },
  {
   "cell_type": "code",
   "execution_count": 8,
   "id": "c7390921",
   "metadata": {},
   "outputs": [
    {
     "data": {
      "text/html": [
       "<div>\n",
       "<style scoped>\n",
       "    .dataframe tbody tr th:only-of-type {\n",
       "        vertical-align: middle;\n",
       "    }\n",
       "\n",
       "    .dataframe tbody tr th {\n",
       "        vertical-align: top;\n",
       "    }\n",
       "\n",
       "    .dataframe thead th {\n",
       "        text-align: right;\n",
       "    }\n",
       "</style>\n",
       "<table border=\"1\" class=\"dataframe\">\n",
       "  <thead>\n",
       "    <tr style=\"text-align: right;\">\n",
       "      <th></th>\n",
       "      <th>Gender</th>\n",
       "      <th>Age</th>\n",
       "      <th>family_history_with_overweight</th>\n",
       "      <th>FAVC</th>\n",
       "      <th>FCVC</th>\n",
       "      <th>NCP</th>\n",
       "      <th>CAEC</th>\n",
       "      <th>SMOKE</th>\n",
       "      <th>CH2O</th>\n",
       "      <th>SCC</th>\n",
       "      <th>FAF</th>\n",
       "      <th>TUE</th>\n",
       "      <th>CALC</th>\n",
       "      <th>MTRANS</th>\n",
       "    </tr>\n",
       "  </thead>\n",
       "  <tbody>\n",
       "    <tr>\n",
       "      <th>0</th>\n",
       "      <td>1</td>\n",
       "      <td>37.631769</td>\n",
       "      <td>1</td>\n",
       "      <td>1</td>\n",
       "      <td>2.0</td>\n",
       "      <td>2.582591</td>\n",
       "      <td>1</td>\n",
       "      <td>0</td>\n",
       "      <td>1.535134</td>\n",
       "      <td>0</td>\n",
       "      <td>1.884520</td>\n",
       "      <td>0.000000</td>\n",
       "      <td>1</td>\n",
       "      <td>Automobile</td>\n",
       "    </tr>\n",
       "    <tr>\n",
       "      <th>1</th>\n",
       "      <td>1</td>\n",
       "      <td>25.897815</td>\n",
       "      <td>1</td>\n",
       "      <td>1</td>\n",
       "      <td>3.0</td>\n",
       "      <td>3.000000</td>\n",
       "      <td>1</td>\n",
       "      <td>0</td>\n",
       "      <td>1.068493</td>\n",
       "      <td>0</td>\n",
       "      <td>0.112122</td>\n",
       "      <td>1.000000</td>\n",
       "      <td>1</td>\n",
       "      <td>Public_Transportation</td>\n",
       "    </tr>\n",
       "    <tr>\n",
       "      <th>2</th>\n",
       "      <td>1</td>\n",
       "      <td>18.000000</td>\n",
       "      <td>0</td>\n",
       "      <td>0</td>\n",
       "      <td>2.0</td>\n",
       "      <td>1.000000</td>\n",
       "      <td>1</td>\n",
       "      <td>0</td>\n",
       "      <td>1.000000</td>\n",
       "      <td>0</td>\n",
       "      <td>0.000000</td>\n",
       "      <td>2.000000</td>\n",
       "      <td>0</td>\n",
       "      <td>Public_Transportation</td>\n",
       "    </tr>\n",
       "    <tr>\n",
       "      <th>3</th>\n",
       "      <td>0</td>\n",
       "      <td>18.014333</td>\n",
       "      <td>1</td>\n",
       "      <td>1</td>\n",
       "      <td>2.0</td>\n",
       "      <td>2.805436</td>\n",
       "      <td>1</td>\n",
       "      <td>0</td>\n",
       "      <td>2.122884</td>\n",
       "      <td>0</td>\n",
       "      <td>0.045651</td>\n",
       "      <td>0.017225</td>\n",
       "      <td>2</td>\n",
       "      <td>Public_Transportation</td>\n",
       "    </tr>\n",
       "    <tr>\n",
       "      <th>4</th>\n",
       "      <td>0</td>\n",
       "      <td>23.083621</td>\n",
       "      <td>1</td>\n",
       "      <td>1</td>\n",
       "      <td>3.0</td>\n",
       "      <td>2.567567</td>\n",
       "      <td>1</td>\n",
       "      <td>0</td>\n",
       "      <td>2.011023</td>\n",
       "      <td>0</td>\n",
       "      <td>0.916478</td>\n",
       "      <td>0.000000</td>\n",
       "      <td>1</td>\n",
       "      <td>Public_Transportation</td>\n",
       "    </tr>\n",
       "  </tbody>\n",
       "</table>\n",
       "</div>"
      ],
      "text/plain": [
       "   Gender        Age  family_history_with_overweight  FAVC  FCVC       NCP  \\\n",
       "0       1  37.631769                               1     1   2.0  2.582591   \n",
       "1       1  25.897815                               1     1   3.0  3.000000   \n",
       "2       1  18.000000                               0     0   2.0  1.000000   \n",
       "3       0  18.014333                               1     1   2.0  2.805436   \n",
       "4       0  23.083621                               1     1   3.0  2.567567   \n",
       "\n",
       "   CAEC  SMOKE      CH2O  SCC       FAF       TUE  CALC                 MTRANS  \n",
       "0     1      0  1.535134    0  1.884520  0.000000     1             Automobile  \n",
       "1     1      0  1.068493    0  0.112122  1.000000     1  Public_Transportation  \n",
       "2     1      0  1.000000    0  0.000000  2.000000     0  Public_Transportation  \n",
       "3     1      0  2.122884    0  0.045651  0.017225     2  Public_Transportation  \n",
       "4     1      0  2.011023    0  0.916478  0.000000     1  Public_Transportation  "
      ]
     },
     "execution_count": 8,
     "metadata": {},
     "output_type": "execute_result"
    }
   ],
   "source": [
    "# encoding variable into binomial and numerical value\n",
    "var_encoding = {'Gender':                         {'Male': 0, 'Female': 1},\n",
    "                'family_history_with_overweight': {'yes': 1, 'no': 0},\n",
    "                'FAVC':                           {'yes': 1, 'no': 0},\n",
    "                'CAEC':                           {'no': 0, 'Sometimes': 1,\n",
    "                                                  'Frequently': 2, 'Always': 3},\n",
    "                'SMOKE':                          {'yes': 1, 'no': 0},\n",
    "                'SCC':                            {'yes': 1, 'no': 0},\n",
    "                'CALC':                           {'no': 0, 'Sometimes': 1,\n",
    "                                                  'Frequently': 2, 'Always': 3}}\n",
    "variables = variables.replace(var_encoding)\n",
    "variables.head()"
   ]
  },
  {
   "cell_type": "code",
   "execution_count": 9,
   "id": "586f923c",
   "metadata": {},
   "outputs": [
    {
     "data": {
      "text/html": [
       "<div>\n",
       "<style scoped>\n",
       "    .dataframe tbody tr th:only-of-type {\n",
       "        vertical-align: middle;\n",
       "    }\n",
       "\n",
       "    .dataframe tbody tr th {\n",
       "        vertical-align: top;\n",
       "    }\n",
       "\n",
       "    .dataframe thead th {\n",
       "        text-align: right;\n",
       "    }\n",
       "</style>\n",
       "<table border=\"1\" class=\"dataframe\">\n",
       "  <thead>\n",
       "    <tr style=\"text-align: right;\">\n",
       "      <th></th>\n",
       "      <th>Automobile</th>\n",
       "      <th>Bike</th>\n",
       "      <th>Motorbike</th>\n",
       "      <th>Public_Transportation</th>\n",
       "      <th>Walking</th>\n",
       "    </tr>\n",
       "  </thead>\n",
       "  <tbody>\n",
       "    <tr>\n",
       "      <th>0</th>\n",
       "      <td>1</td>\n",
       "      <td>0</td>\n",
       "      <td>0</td>\n",
       "      <td>0</td>\n",
       "      <td>0</td>\n",
       "    </tr>\n",
       "    <tr>\n",
       "      <th>1</th>\n",
       "      <td>0</td>\n",
       "      <td>0</td>\n",
       "      <td>0</td>\n",
       "      <td>1</td>\n",
       "      <td>0</td>\n",
       "    </tr>\n",
       "    <tr>\n",
       "      <th>2</th>\n",
       "      <td>0</td>\n",
       "      <td>0</td>\n",
       "      <td>0</td>\n",
       "      <td>1</td>\n",
       "      <td>0</td>\n",
       "    </tr>\n",
       "    <tr>\n",
       "      <th>3</th>\n",
       "      <td>0</td>\n",
       "      <td>0</td>\n",
       "      <td>0</td>\n",
       "      <td>1</td>\n",
       "      <td>0</td>\n",
       "    </tr>\n",
       "    <tr>\n",
       "      <th>4</th>\n",
       "      <td>0</td>\n",
       "      <td>0</td>\n",
       "      <td>0</td>\n",
       "      <td>1</td>\n",
       "      <td>0</td>\n",
       "    </tr>\n",
       "  </tbody>\n",
       "</table>\n",
       "</div>"
      ],
      "text/plain": [
       "   Automobile  Bike  Motorbike  Public_Transportation  Walking\n",
       "0           1     0          0                      0        0\n",
       "1           0     0          0                      1        0\n",
       "2           0     0          0                      1        0\n",
       "3           0     0          0                      1        0\n",
       "4           0     0          0                      1        0"
      ]
     },
     "execution_count": 9,
     "metadata": {},
     "output_type": "execute_result"
    }
   ],
   "source": [
    "# for MTRANS, we will use one-hot encoding method since their is no linear relationship between each variables\n",
    "mtrans = pd.get_dummies(variables['MTRANS'])\n",
    "mtrans.head()"
   ]
  },
  {
   "cell_type": "code",
   "execution_count": 10,
   "id": "582ea716",
   "metadata": {
    "scrolled": true
   },
   "outputs": [
    {
     "data": {
      "text/html": [
       "<div>\n",
       "<style scoped>\n",
       "    .dataframe tbody tr th:only-of-type {\n",
       "        vertical-align: middle;\n",
       "    }\n",
       "\n",
       "    .dataframe tbody tr th {\n",
       "        vertical-align: top;\n",
       "    }\n",
       "\n",
       "    .dataframe thead th {\n",
       "        text-align: right;\n",
       "    }\n",
       "</style>\n",
       "<table border=\"1\" class=\"dataframe\">\n",
       "  <thead>\n",
       "    <tr style=\"text-align: right;\">\n",
       "      <th></th>\n",
       "      <th>Gender</th>\n",
       "      <th>Age</th>\n",
       "      <th>family_history_with_overweight</th>\n",
       "      <th>FAVC</th>\n",
       "      <th>FCVC</th>\n",
       "      <th>NCP</th>\n",
       "      <th>CAEC</th>\n",
       "      <th>SMOKE</th>\n",
       "      <th>CH2O</th>\n",
       "      <th>SCC</th>\n",
       "      <th>FAF</th>\n",
       "      <th>TUE</th>\n",
       "      <th>CALC</th>\n",
       "      <th>Automobile</th>\n",
       "      <th>Bike</th>\n",
       "      <th>Motorbike</th>\n",
       "      <th>Public_Transportation</th>\n",
       "      <th>Walking</th>\n",
       "    </tr>\n",
       "  </thead>\n",
       "  <tbody>\n",
       "    <tr>\n",
       "      <th>0</th>\n",
       "      <td>1</td>\n",
       "      <td>37.631769</td>\n",
       "      <td>1</td>\n",
       "      <td>1</td>\n",
       "      <td>2.0</td>\n",
       "      <td>2.582591</td>\n",
       "      <td>1</td>\n",
       "      <td>0</td>\n",
       "      <td>1.535134</td>\n",
       "      <td>0</td>\n",
       "      <td>1.884520</td>\n",
       "      <td>0.000000</td>\n",
       "      <td>1</td>\n",
       "      <td>1</td>\n",
       "      <td>0</td>\n",
       "      <td>0</td>\n",
       "      <td>0</td>\n",
       "      <td>0</td>\n",
       "    </tr>\n",
       "    <tr>\n",
       "      <th>1</th>\n",
       "      <td>1</td>\n",
       "      <td>25.897815</td>\n",
       "      <td>1</td>\n",
       "      <td>1</td>\n",
       "      <td>3.0</td>\n",
       "      <td>3.000000</td>\n",
       "      <td>1</td>\n",
       "      <td>0</td>\n",
       "      <td>1.068493</td>\n",
       "      <td>0</td>\n",
       "      <td>0.112122</td>\n",
       "      <td>1.000000</td>\n",
       "      <td>1</td>\n",
       "      <td>0</td>\n",
       "      <td>0</td>\n",
       "      <td>0</td>\n",
       "      <td>1</td>\n",
       "      <td>0</td>\n",
       "    </tr>\n",
       "    <tr>\n",
       "      <th>2</th>\n",
       "      <td>1</td>\n",
       "      <td>18.000000</td>\n",
       "      <td>0</td>\n",
       "      <td>0</td>\n",
       "      <td>2.0</td>\n",
       "      <td>1.000000</td>\n",
       "      <td>1</td>\n",
       "      <td>0</td>\n",
       "      <td>1.000000</td>\n",
       "      <td>0</td>\n",
       "      <td>0.000000</td>\n",
       "      <td>2.000000</td>\n",
       "      <td>0</td>\n",
       "      <td>0</td>\n",
       "      <td>0</td>\n",
       "      <td>0</td>\n",
       "      <td>1</td>\n",
       "      <td>0</td>\n",
       "    </tr>\n",
       "    <tr>\n",
       "      <th>3</th>\n",
       "      <td>0</td>\n",
       "      <td>18.014333</td>\n",
       "      <td>1</td>\n",
       "      <td>1</td>\n",
       "      <td>2.0</td>\n",
       "      <td>2.805436</td>\n",
       "      <td>1</td>\n",
       "      <td>0</td>\n",
       "      <td>2.122884</td>\n",
       "      <td>0</td>\n",
       "      <td>0.045651</td>\n",
       "      <td>0.017225</td>\n",
       "      <td>2</td>\n",
       "      <td>0</td>\n",
       "      <td>0</td>\n",
       "      <td>0</td>\n",
       "      <td>1</td>\n",
       "      <td>0</td>\n",
       "    </tr>\n",
       "    <tr>\n",
       "      <th>4</th>\n",
       "      <td>0</td>\n",
       "      <td>23.083621</td>\n",
       "      <td>1</td>\n",
       "      <td>1</td>\n",
       "      <td>3.0</td>\n",
       "      <td>2.567567</td>\n",
       "      <td>1</td>\n",
       "      <td>0</td>\n",
       "      <td>2.011023</td>\n",
       "      <td>0</td>\n",
       "      <td>0.916478</td>\n",
       "      <td>0.000000</td>\n",
       "      <td>1</td>\n",
       "      <td>0</td>\n",
       "      <td>0</td>\n",
       "      <td>0</td>\n",
       "      <td>1</td>\n",
       "      <td>0</td>\n",
       "    </tr>\n",
       "  </tbody>\n",
       "</table>\n",
       "</div>"
      ],
      "text/plain": [
       "   Gender        Age  family_history_with_overweight  FAVC  FCVC       NCP  \\\n",
       "0       1  37.631769                               1     1   2.0  2.582591   \n",
       "1       1  25.897815                               1     1   3.0  3.000000   \n",
       "2       1  18.000000                               0     0   2.0  1.000000   \n",
       "3       0  18.014333                               1     1   2.0  2.805436   \n",
       "4       0  23.083621                               1     1   3.0  2.567567   \n",
       "\n",
       "   CAEC  SMOKE      CH2O  SCC       FAF       TUE  CALC  Automobile  Bike  \\\n",
       "0     1      0  1.535134    0  1.884520  0.000000     1           1     0   \n",
       "1     1      0  1.068493    0  0.112122  1.000000     1           0     0   \n",
       "2     1      0  1.000000    0  0.000000  2.000000     0           0     0   \n",
       "3     1      0  2.122884    0  0.045651  0.017225     2           0     0   \n",
       "4     1      0  2.011023    0  0.916478  0.000000     1           0     0   \n",
       "\n",
       "   Motorbike  Public_Transportation  Walking  \n",
       "0          0                      0        0  \n",
       "1          0                      1        0  \n",
       "2          0                      1        0  \n",
       "3          0                      1        0  \n",
       "4          0                      1        0  "
      ]
     },
     "execution_count": 10,
     "metadata": {},
     "output_type": "execute_result"
    }
   ],
   "source": [
    "# combining the encoded MTRANS with the rest of the variables\n",
    "variables = variables.drop('MTRANS', axis=1)\n",
    "variables = pd.concat([variables, mtrans], axis=1)\n",
    "variables.head()"
   ]
  },
  {
   "cell_type": "code",
   "execution_count": 11,
   "id": "a187e8a9",
   "metadata": {},
   "outputs": [
    {
     "data": {
      "text/plain": [
       "0       Obesity\n",
       "1       Obesity\n",
       "2    Overweight\n",
       "3    Overweight\n",
       "4       Obesity\n",
       "Name: NObeyesdad, dtype: object"
      ]
     },
     "execution_count": 11,
     "metadata": {},
     "output_type": "execute_result"
    }
   ],
   "source": [
    "# due to the limited data size, we will simplify the classes to make the task more managable for the algorityms\n",
    "cla_encoding = {'Overweight_Level_I': 'Overweight',\n",
    "               'Overweight_Level_II': 'Overweight',\n",
    "               'Obesity_Type_I':      'Obesity',\n",
    "               'Obesity_Type_II':     'Obesity',\n",
    "               'Obesity_Type_III':    'Obesity'}\n",
    "classes = classes.replace(cla_encoding)\n",
    "classes.head()"
   ]
  },
  {
   "cell_type": "markdown",
   "id": "5566977f",
   "metadata": {},
   "source": [
    "## Classification"
   ]
  },
  {
   "cell_type": "code",
   "execution_count": 12,
   "id": "5a4e7edb",
   "metadata": {},
   "outputs": [],
   "source": [
    "# creating a train test split\n",
    "X_train, X_test, y_train, y_test = train_test_split(variables, classes, test_size=0.2, random_state=0)"
   ]
  },
  {
   "cell_type": "markdown",
   "id": "38d26f6a",
   "metadata": {},
   "source": [
    "### Naive Bayes classifier"
   ]
  },
  {
   "cell_type": "code",
   "execution_count": 13,
   "id": "4fbb2a65",
   "metadata": {},
   "outputs": [
    {
     "data": {
      "image/png": "[encoded data removed]",
      "text/plain": [
       "<Figure size 432x288 with 1 Axes>"
      ]
     },
     "metadata": {
      "needs_background": "light"
     },
     "output_type": "display_data"
    }
   ],
   "source": [
    "# mapping out the effect of parameters to accuracy\n",
    "training_accuracy = []\n",
    "testing_accuracy = []\n",
    "alphas = [0.01, 1, 2, 3, 4, 5, 6, 7, 8, 9, 10]\n",
    "for i in alphas:\n",
    "    classifier = naive_bayes.MultinomialNB(alpha=i)\n",
    "    classifier.fit(X_train, y_train)\n",
    "    training_accuracy.append(accuracy_score(y_train,\n",
    "                                            classifier.predict(X_train)))\n",
    "    testing_accuracy.append(accuracy_score(y_test,\n",
    "                                           classifier.predict(X_test)))\n",
    "plt.figure()\n",
    "plt.plot(alphas, training_accuracy, label='training accuracy')\n",
    "plt.plot(alphas, testing_accuracy, \n",
    "             label='testing accuracy')\n",
    "plt.title('Testing Accuracy by Parameter')\n",
    "plt.xlabel('alpha')\n",
    "plt.ylabel('accuracy')\n",
    "plt.legend()\n",
    "plt.grid()"
   ]
  },
  {
   "cell_type": "code",
   "execution_count": 14,
   "id": "d18d14ad",
   "metadata": {},
   "outputs": [],
   "source": [
    "#creating a classifier\n",
    "nb_classifier = naive_bayes.MultinomialNB(alpha=1)"
   ]
  },
  {
   "cell_type": "code",
   "execution_count": 15,
   "id": "17b2bbaa",
   "metadata": {},
   "outputs": [
    {
     "data": {
      "text/plain": [
       "MultinomialNB(alpha=1)"
      ]
     },
     "execution_count": 15,
     "metadata": {},
     "output_type": "execute_result"
    }
   ],
   "source": [
    "#training the model\n",
    "nb_classifier.fit(X_train, y_train)"
   ]
  },
  {
   "cell_type": "code",
   "execution_count": 16,
   "id": "5cc89ba3",
   "metadata": {},
   "outputs": [
    {
     "name": "stdout",
     "output_type": "stream",
     "text": [
      "5.31 ms ± 311 µs per loop (mean ± std. dev. of 7 runs, 100 loops each)\n"
     ]
    }
   ],
   "source": [
    "# timing the processing time\n",
    "%timeit nb_classifier.fit(X_train, y_train)"
   ]
  },
  {
   "cell_type": "code",
   "execution_count": 17,
   "id": "ceb86122",
   "metadata": {},
   "outputs": [
    {
     "name": "stdout",
     "output_type": "stream",
     "text": [
      "The training accuracy is: 0.5177725118483413\n",
      "The testing accuracy is: 0.5130023640661938\n"
     ]
    }
   ],
   "source": [
    "# testing for in-sample and off-sample accuracy\n",
    "nb_y_train = nb_classifier.predict(X_train)\n",
    "nb_y_test = nb_classifier.predict(X_test)\n",
    "nb_train_acc = accuracy_score(y_train, nb_y_train)\n",
    "nb_test_acc = accuracy_score(y_test, nb_y_test)\n",
    "print('The training accuracy is:', nb_train_acc)\n",
    "print('The testing accuracy is:', nb_test_acc)"
   ]
  },
  {
   "cell_type": "code",
   "execution_count": 18,
   "id": "46f5490e",
   "metadata": {},
   "outputs": [
    {
     "name": "stdout",
     "output_type": "stream",
     "text": [
      "the 5-folds crossvalidation accuracy scores are: [0.50591017 0.50236967 0.52132701 0.492891   0.51895735]\n",
      "the 5-folds crossvalidation mean score is: 0.5082910378362632\n",
      "the 5-folds crossvalidation varience is: 0.00011231985835337757\n"
     ]
    }
   ],
   "source": [
    "# 5-folds crossvalidation\n",
    "nb_5_folds = cross_val_score(nb_classifier, variables, classes, cv=5)\n",
    "nb_5_folds_mean = nb_5_folds.mean()\n",
    "nb_5_folds_var = nb_5_folds.var()\n",
    "print('the 5-folds crossvalidation accuracy scores are:', nb_5_folds)\n",
    "print('the 5-folds crossvalidation mean score is:', nb_5_folds_mean)\n",
    "print('the 5-folds crossvalidation varience is:', nb_5_folds_var)"
   ]
  },
  {
   "cell_type": "code",
   "execution_count": 19,
   "id": "6c71a017",
   "metadata": {
    "scrolled": false
   },
   "outputs": [
    {
     "data": {
      "text/plain": [
       "Text(91.68, 0.5, 'predicted label')"
      ]
     },
     "execution_count": 19,
     "metadata": {},
     "output_type": "execute_result"
    },
    {
     "data": {
      "image/png": "[encoded data removed]",
      "text/plain": [
       "<Figure size 432x288 with 1 Axes>"
      ]
     },
     "metadata": {
      "needs_background": "light"
     },
     "output_type": "display_data"
    }
   ],
   "source": [
    "# creating a confusion matrix\n",
    "nb_matrix = confusion_matrix(y_test,nb_y_test)\n",
    "labels = ['Underweight', 'Normalweight', 'Overweight', 'Obesity']\n",
    "sns.heatmap(nb_matrix.T, square=True, annot=True, fmt='d', cbar=False,\n",
    "            xticklabels=labels, yticklabels=labels)\n",
    "plt.title('Confusion Matrix')\n",
    "plt.xlabel('true label')\n",
    "plt.ylabel('predicted label')"
   ]
  },
  {
   "cell_type": "markdown",
   "id": "8d1f6854",
   "metadata": {},
   "source": [
    "### Support Vector Machine Classifier"
   ]
  },
  {
   "cell_type": "code",
   "execution_count": 20,
   "id": "0d6e01b7",
   "metadata": {},
   "outputs": [],
   "source": [
    "# mapping out the effect of parameters to accuracy\n",
    "gammas = [0.01, 0.1]\n",
    "kernels = ['linear', 'rbf', 'poly']\n",
    "acc_df = pd.DataFrame(columns=gammas, index=kernels)\n",
    "for i in kernels:\n",
    "    for j in gammas:\n",
    "        classifier = svm.SVC(kernel=i, gamma=j, random_state=45)\n",
    "        classifier.fit(X_train, y_train)\n",
    "        score = accuracy_score(y_test, classifier.predict(X_test))\n",
    "        acc_df.loc[i, j] = score\n",
    "\n",
    "acc_df = acc_df.astype('float')"
   ]
  },
  {
   "cell_type": "code",
   "execution_count": 21,
   "id": "86925207",
   "metadata": {},
   "outputs": [
    {
     "data": {
      "text/plain": [
       "Text(33.0, 0.5, 'gammas')"
      ]
     },
     "execution_count": 21,
     "metadata": {},
     "output_type": "execute_result"
    },
    {
     "data": {
      "image/png": "[encoded data removed]",
      "text/plain": [
       "<Figure size 432x288 with 2 Axes>"
      ]
     },
     "metadata": {
      "needs_background": "light"
     },
     "output_type": "display_data"
    }
   ],
   "source": [
    "sns.heatmap(acc_df.T, center=0.7)\n",
    "plt.title('Testing Accuracy by Parameters')\n",
    "plt.xlabel('kernels')\n",
    "plt.ylabel('gammas')"
   ]
  },
  {
   "cell_type": "code",
   "execution_count": 22,
   "id": "3c2b98ab",
   "metadata": {},
   "outputs": [],
   "source": [
    "#creating a classifier\n",
    "svm_classifier = svm.SVC(kernel='rbf', gamma=0.1, random_state=45)"
   ]
  },
  {
   "cell_type": "code",
   "execution_count": 23,
   "id": "7670bc77",
   "metadata": {
    "scrolled": true
   },
   "outputs": [
    {
     "data": {
      "text/plain": [
       "SVC(gamma=0.1, random_state=45)"
      ]
     },
     "execution_count": 23,
     "metadata": {},
     "output_type": "execute_result"
    }
   ],
   "source": [
    "#training the model\n",
    "svm_classifier.fit(X_train, y_train)"
   ]
  },
  {
   "cell_type": "code",
   "execution_count": 24,
   "id": "65dd38e0",
   "metadata": {},
   "outputs": [
    {
     "name": "stdout",
     "output_type": "stream",
     "text": [
      "105 ms ± 621 µs per loop (mean ± std. dev. of 7 runs, 10 loops each)\n"
     ]
    }
   ],
   "source": [
    "# timing the processing time\n",
    "%timeit svm_classifier.fit(X_train, y_train)"
   ]
  },
  {
   "cell_type": "code",
   "execution_count": 25,
   "id": "5eb79dde",
   "metadata": {},
   "outputs": [
    {
     "name": "stdout",
     "output_type": "stream",
     "text": [
      "The training accuracy is: 0.8590047393364929\n",
      "The testing sample accuracy is: 0.817966903073286\n"
     ]
    }
   ],
   "source": [
    "# testing for in-sample and off-sample accuracy\n",
    "svm_y_train = svm_classifier.predict(X_train)\n",
    "svm_y_test = svm_classifier.predict(X_test)\n",
    "svm_train_acc = accuracy_score(y_train, svm_y_train)\n",
    "svm_test_acc = accuracy_score(y_test, svm_y_test)\n",
    "print('The training accuracy is:', svm_train_acc)\n",
    "print('The testing sample accuracy is:', svm_test_acc)"
   ]
  },
  {
   "cell_type": "code",
   "execution_count": 26,
   "id": "28adcaa0",
   "metadata": {},
   "outputs": [
    {
     "name": "stdout",
     "output_type": "stream",
     "text": [
      "the 5-folds crossvalidation accuracy scores are: [0.77777778 0.80094787 0.82701422 0.79620853 0.80331754]\n",
      "the 5-folds crossvalidation mean score is: 0.801053185887309\n",
      "the 5-folds crossvalidation varience is: 0.00024886577315019363\n"
     ]
    }
   ],
   "source": [
    "# 5-folds crossvalidation\n",
    "svm_5_folds = cross_val_score(svm_classifier, variables, classes, cv=5)\n",
    "svm_5_folds_mean = svm_5_folds.mean()\n",
    "svm_5_folds_var = svm_5_folds.var()\n",
    "print('the 5-folds crossvalidation accuracy scores are:', svm_5_folds)\n",
    "print('the 5-folds crossvalidation mean score is:', svm_5_folds_mean)\n",
    "print('the 5-folds crossvalidation varience is:', svm_5_folds_var)"
   ]
  },
  {
   "cell_type": "code",
   "execution_count": 27,
   "id": "8fa5f456",
   "metadata": {},
   "outputs": [
    {
     "data": {
      "text/plain": [
       "Text(91.68, 0.5, 'predicted label')"
      ]
     },
     "execution_count": 27,
     "metadata": {},
     "output_type": "execute_result"
    },
    {
     "data": {
      "image/png": "[encoded data removed]",
      "text/plain": [
       "<Figure size 432x288 with 1 Axes>"
      ]
     },
     "metadata": {
      "needs_background": "light"
     },
     "output_type": "display_data"
    }
   ],
   "source": [
    "# creating a confusion matrix\n",
    "svm_matrix = confusion_matrix(y_test,svm_y_test)\n",
    "labels = ['Underweight', 'Normalweight', 'Overweight', 'Obesity']\n",
    "sns.heatmap(svm_matrix.T, square=True, annot=True, fmt='d', cbar=False,\n",
    "            xticklabels=labels, yticklabels=labels)\n",
    "plt.title('Confusion Matrix')\n",
    "plt.xlabel('true label')\n",
    "plt.ylabel('predicted label')"
   ]
  },
  {
   "cell_type": "markdown",
   "id": "5583eb5b",
   "metadata": {},
   "source": [
    "### Random Forest Classifier"
   ]
  },
  {
   "cell_type": "code",
   "execution_count": 28,
   "id": "57ecf950",
   "metadata": {},
   "outputs": [],
   "source": [
    "# mapping out the effect of parameters to accuracy\n",
    "acc_df = pd.DataFrame(columns=range(10 , 101, 10), index=range(10 , 101, 10))\n",
    "\n",
    "for i in range(10 , 101, 10):\n",
    "    for j in range(10 , 101, 10):\n",
    "        classifier = ensemble.RandomForestClassifier(n_estimators=i, max_depth=j, random_state=30)\n",
    "        classifier.fit(X_train, y_train)\n",
    "        score = accuracy_score(y_test, classifier.predict(X_test))\n",
    "        acc_df.loc[i, j] = score\n",
    "\n",
    "acc_df = acc_df.astype('float')"
   ]
  },
  {
   "cell_type": "code",
   "execution_count": 29,
   "id": "e39c2456",
   "metadata": {},
   "outputs": [
    {
     "data": {
      "text/plain": [
       "Text(33.0, 0.5, 'tree depth')"
      ]
     },
     "execution_count": 29,
     "metadata": {},
     "output_type": "execute_result"
    },
    {
     "data": {
      "image/png": "[encoded data removed]",
      "text/plain": [
       "<Figure size 432x288 with 2 Axes>"
      ]
     },
     "metadata": {
      "needs_background": "light"
     },
     "output_type": "display_data"
    }
   ],
   "source": [
    "sns.heatmap(acc_df.T, center=0.845)\n",
    "plt.title('Testing Accuracy by Parameters')\n",
    "plt.xlabel('number of trees')\n",
    "plt.ylabel('tree depth')"
   ]
  },
  {
   "cell_type": "code",
   "execution_count": 30,
   "id": "c915a1ba",
   "metadata": {},
   "outputs": [],
   "source": [
    "#creating a classifier\n",
    "rf_classifier  = ensemble.RandomForestClassifier(n_estimators=70, max_depth=30, random_state=30)"
   ]
  },
  {
   "cell_type": "code",
   "execution_count": 31,
   "id": "34578ffd",
   "metadata": {},
   "outputs": [
    {
     "data": {
      "text/plain": [
       "RandomForestClassifier(max_depth=30, n_estimators=70, random_state=30)"
      ]
     },
     "execution_count": 31,
     "metadata": {},
     "output_type": "execute_result"
    }
   ],
   "source": [
    "#training the model\n",
    "rf_classifier.fit(X_train, y_train)"
   ]
  },
  {
   "cell_type": "code",
   "execution_count": 32,
   "id": "6d2bfc88",
   "metadata": {},
   "outputs": [
    {
     "name": "stdout",
     "output_type": "stream",
     "text": [
      "152 ms ± 2.03 ms per loop (mean ± std. dev. of 7 runs, 10 loops each)\n"
     ]
    }
   ],
   "source": [
    "# timing the processing time\n",
    "%timeit rf_classifier.fit(X_train, y_train)"
   ]
  },
  {
   "cell_type": "code",
   "execution_count": 33,
   "id": "eac329f6",
   "metadata": {},
   "outputs": [
    {
     "name": "stdout",
     "output_type": "stream",
     "text": [
      "The training is: 1.0\n",
      "The testing accuracy is: 0.8841607565011821\n"
     ]
    }
   ],
   "source": [
    "# testing for in-sample and off-sample accuracy\n",
    "rf_y_train = rf_classifier.predict(X_train)\n",
    "rf_y_test = rf_classifier.predict(X_test)\n",
    "rf_train_acc = accuracy_score(y_train, rf_y_train)\n",
    "rf_test_acc = accuracy_score(y_test, rf_y_test)\n",
    "print('The training is:', rf_train_acc)\n",
    "print('The testing accuracy is:', rf_test_acc)"
   ]
  },
  {
   "cell_type": "code",
   "execution_count": 34,
   "id": "69ff3044",
   "metadata": {},
   "outputs": [
    {
     "name": "stdout",
     "output_type": "stream",
     "text": [
      "the 5-folds crossvalidation accuracy scores are: [0.8463357  0.87677725 0.86255924 0.87203791 0.87440758]\n",
      "the 5-folds crossvalidation mean score is: 0.8664235375841709\n",
      "the 5-folds crossvalidation varience is: 0.00012418394035352594\n"
     ]
    }
   ],
   "source": [
    "# 5-folds crossvalidation\n",
    "rf_5_folds = cross_val_score(rf_classifier, variables, classes, cv=5)\n",
    "rf_5_folds_mean = rf_5_folds.mean()\n",
    "rf_5_folds_var = rf_5_folds.var()\n",
    "print('the 5-folds crossvalidation accuracy scores are:', rf_5_folds)\n",
    "print('the 5-folds crossvalidation mean score is:', rf_5_folds_mean)\n",
    "print('the 5-folds crossvalidation varience is:', rf_5_folds_var)"
   ]
  },
  {
   "cell_type": "code",
   "execution_count": 35,
   "id": "16b9d5e4",
   "metadata": {},
   "outputs": [
    {
     "data": {
      "text/plain": [
       "Text(91.68, 0.5, 'predicted label')"
      ]
     },
     "execution_count": 35,
     "metadata": {},
     "output_type": "execute_result"
    },
    {
     "data": {
      "image/png": "[encoded data removed]",
      "text/plain": [
       "<Figure size 432x288 with 1 Axes>"
      ]
     },
     "metadata": {
      "needs_background": "light"
     },
     "output_type": "display_data"
    }
   ],
   "source": [
    "# creating a confusion matrix\n",
    "rf_matrix = confusion_matrix(y_test,rf_y_test)\n",
    "labels = ['Underweight', 'Normalweight', 'Overweight', 'Obesity']\n",
    "sns.heatmap(rf_matrix.T, square=True, annot=True, fmt='d', cbar=False,\n",
    "            xticklabels=labels, yticklabels=labels)\n",
    "plt.title('Confusion Matrix')\n",
    "plt.xlabel('true label')\n",
    "plt.ylabel('predicted label')"
   ]
  },
  {
   "cell_type": "code",
   "execution_count": null,
   "id": "aca2a86c",
   "metadata": {},
   "outputs": [],
   "source": []
  }
 ],
 "metadata": {
  "kernelspec": {
   "display_name": "Python 3",
   "language": "python",
   "name": "python3"
  },
  "language_info": {
   "codemirror_mode": {
    "name": "ipython",
    "version": 3
   },
   "file_extension": ".py",
   "mimetype": "text/x-python",
   "name": "python",
   "nbconvert_exporter": "python",
   "pygments_lexer": "ipython3",
   "version": "3.8.8"
  }
 },
 "nbformat": 4,
 "nbformat_minor": 5
}
