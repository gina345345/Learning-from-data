{
 "cells": [
  {
   "cell_type": "markdown",
   "id": "4af04d53",
   "metadata": {},
   "source": [
    "# Obesity risk factors classification"
   ]
  },
  {
   "cell_type": "code",
   "execution_count": 1,
   "id": "1cdb0b84",
   "metadata": {},
   "outputs": [],
   "source": [
    "# import the nescessary libraries\n",
    "import numpy as np\n",
    "import pandas as pd\n",
    "import matplotlib as mpl\n",
    "import matplotlib.pyplot as plt\n",
    "import seaborn as sns\n",
    "from sklearn import naive_bayes\n",
    "from sklearn import svm\n",
    "from sklearn import ensemble\n",
    "from sklearn.model_selection import train_test_split\n",
    "from sklearn.model_selection import cross_val_score\n",
    "from sklearn.metrics import accuracy_score\n",
    "from sklearn.metrics import confusion_matrix"
   ]
  },
  {
   "cell_type": "code",
   "execution_count": 2,
   "id": "ec837903",
   "metadata": {},
   "outputs": [
    {
     "data": {
      "text/html": [
       "<div>\n",
       "<style scoped>\n",
       "    .dataframe tbody tr th:only-of-type {\n",
       "        vertical-align: middle;\n",
       "    }\n",
       "\n",
       "    .dataframe tbody tr th {\n",
       "        vertical-align: top;\n",
       "    }\n",
       "\n",
       "    .dataframe thead th {\n",
       "        text-align: right;\n",
       "    }\n",
       "</style>\n",
       "<table border=\"1\" class=\"dataframe\">\n",
       "  <thead>\n",
       "    <tr style=\"text-align: right;\">\n",
       "      <th></th>\n",
       "      <th>Gender</th>\n",
       "      <th>Age</th>\n",
       "      <th>Height</th>\n",
       "      <th>Weight</th>\n",
       "      <th>family_history_with_overweight</th>\n",
       "      <th>FAVC</th>\n",
       "      <th>FCVC</th>\n",
       "      <th>NCP</th>\n",
       "      <th>CAEC</th>\n",
       "      <th>SMOKE</th>\n",
       "      <th>CH2O</th>\n",
       "      <th>SCC</th>\n",
       "      <th>FAF</th>\n",
       "      <th>TUE</th>\n",
       "      <th>CALC</th>\n",
       "      <th>MTRANS</th>\n",
       "      <th>NObeyesdad</th>\n",
       "    </tr>\n",
       "  </thead>\n",
       "  <tbody>\n",
       "    <tr>\n",
       "      <th>0</th>\n",
       "      <td>Female</td>\n",
       "      <td>21.0</td>\n",
       "      <td>1.62</td>\n",
       "      <td>64.0</td>\n",
       "      <td>yes</td>\n",
       "      <td>no</td>\n",
       "      <td>2.0</td>\n",
       "      <td>3.0</td>\n",
       "      <td>Sometimes</td>\n",
       "      <td>no</td>\n",
       "      <td>2.0</td>\n",
       "      <td>no</td>\n",
       "      <td>0.0</td>\n",
       "      <td>1.0</td>\n",
       "      <td>no</td>\n",
       "      <td>Public_Transportation</td>\n",
       "      <td>Normal_Weight</td>\n",
       "    </tr>\n",
       "    <tr>\n",
       "      <th>1</th>\n",
       "      <td>Female</td>\n",
       "      <td>21.0</td>\n",
       "      <td>1.52</td>\n",
       "      <td>56.0</td>\n",
       "      <td>yes</td>\n",
       "      <td>no</td>\n",
       "      <td>3.0</td>\n",
       "      <td>3.0</td>\n",
       "      <td>Sometimes</td>\n",
       "      <td>yes</td>\n",
       "      <td>3.0</td>\n",
       "      <td>yes</td>\n",
       "      <td>3.0</td>\n",
       "      <td>0.0</td>\n",
       "      <td>Sometimes</td>\n",
       "      <td>Public_Transportation</td>\n",
       "      <td>Normal_Weight</td>\n",
       "    </tr>\n",
       "    <tr>\n",
       "      <th>2</th>\n",
       "      <td>Male</td>\n",
       "      <td>23.0</td>\n",
       "      <td>1.80</td>\n",
       "      <td>77.0</td>\n",
       "      <td>yes</td>\n",
       "      <td>no</td>\n",
       "      <td>2.0</td>\n",
       "      <td>3.0</td>\n",
       "      <td>Sometimes</td>\n",
       "      <td>no</td>\n",
       "      <td>2.0</td>\n",
       "      <td>no</td>\n",
       "      <td>2.0</td>\n",
       "      <td>1.0</td>\n",
       "      <td>Frequently</td>\n",
       "      <td>Public_Transportation</td>\n",
       "      <td>Normal_Weight</td>\n",
       "    </tr>\n",
       "    <tr>\n",
       "      <th>3</th>\n",
       "      <td>Male</td>\n",
       "      <td>27.0</td>\n",
       "      <td>1.80</td>\n",
       "      <td>87.0</td>\n",
       "      <td>no</td>\n",
       "      <td>no</td>\n",
       "      <td>3.0</td>\n",
       "      <td>3.0</td>\n",
       "      <td>Sometimes</td>\n",
       "      <td>no</td>\n",
       "      <td>2.0</td>\n",
       "      <td>no</td>\n",
       "      <td>2.0</td>\n",
       "      <td>0.0</td>\n",
       "      <td>Frequently</td>\n",
       "      <td>Walking</td>\n",
       "      <td>Overweight_Level_I</td>\n",
       "    </tr>\n",
       "    <tr>\n",
       "      <th>4</th>\n",
       "      <td>Male</td>\n",
       "      <td>22.0</td>\n",
       "      <td>1.78</td>\n",
       "      <td>89.8</td>\n",
       "      <td>no</td>\n",
       "      <td>no</td>\n",
       "      <td>2.0</td>\n",
       "      <td>1.0</td>\n",
       "      <td>Sometimes</td>\n",
       "      <td>no</td>\n",
       "      <td>2.0</td>\n",
       "      <td>no</td>\n",
       "      <td>0.0</td>\n",
       "      <td>0.0</td>\n",
       "      <td>Sometimes</td>\n",
       "      <td>Public_Transportation</td>\n",
       "      <td>Overweight_Level_II</td>\n",
       "    </tr>\n",
       "  </tbody>\n",
       "</table>\n",
       "</div>"
      ],
      "text/plain": [
       "   Gender   Age  Height  Weight family_history_with_overweight FAVC  FCVC  \\\n",
       "0  Female  21.0    1.62    64.0                            yes   no   2.0   \n",
       "1  Female  21.0    1.52    56.0                            yes   no   3.0   \n",
       "2    Male  23.0    1.80    77.0                            yes   no   2.0   \n",
       "3    Male  27.0    1.80    87.0                             no   no   3.0   \n",
       "4    Male  22.0    1.78    89.8                             no   no   2.0   \n",
       "\n",
       "   NCP       CAEC SMOKE  CH2O  SCC  FAF  TUE        CALC  \\\n",
       "0  3.0  Sometimes    no   2.0   no  0.0  1.0          no   \n",
       "1  3.0  Sometimes   yes   3.0  yes  3.0  0.0   Sometimes   \n",
       "2  3.0  Sometimes    no   2.0   no  2.0  1.0  Frequently   \n",
       "3  3.0  Sometimes    no   2.0   no  2.0  0.0  Frequently   \n",
       "4  1.0  Sometimes    no   2.0   no  0.0  0.0   Sometimes   \n",
       "\n",
       "                  MTRANS           NObeyesdad  \n",
       "0  Public_Transportation        Normal_Weight  \n",
       "1  Public_Transportation        Normal_Weight  \n",
       "2  Public_Transportation        Normal_Weight  \n",
       "3                Walking   Overweight_Level_I  \n",
       "4  Public_Transportation  Overweight_Level_II  "
      ]
     },
     "execution_count": 2,
     "metadata": {},
     "output_type": "execute_result"
    }
   ],
   "source": [
    "#importing the dataset\n",
    "file_path = 'ObesityDataSet_raw_and_data_sinthetic.csv'\n",
    "data = pd.read_csv(file_path)\n",
    "data.head()"
   ]
  },
  {
   "cell_type": "code",
   "execution_count": 3,
   "id": "5e04f842",
   "metadata": {},
   "outputs": [
    {
     "name": "stdout",
     "output_type": "stream",
     "text": [
      "Gender                             object\n",
      "Age                               float64\n",
      "Height                            float64\n",
      "Weight                            float64\n",
      "family_history_with_overweight     object\n",
      "FAVC                               object\n",
      "FCVC                              float64\n",
      "NCP                               float64\n",
      "CAEC                               object\n",
      "SMOKE                              object\n",
      "CH2O                              float64\n",
      "SCC                                object\n",
      "FAF                               float64\n",
      "TUE                               float64\n",
      "CALC                               object\n",
      "MTRANS                             object\n",
      "NObeyesdad                         object\n",
      "dtype: object\n",
      "(2111, 17)\n"
     ]
    }
   ],
   "source": [
    "#checking for the data size and types\n",
    "print(data.dtypes)\n",
    "print(data.shape)"
   ]
  },
  {
   "cell_type": "markdown",
   "id": "a0a1faeb",
   "metadata": {},
   "source": [
    "### Data cleaning and processing"
   ]
  },
  {
   "cell_type": "code",
   "execution_count": 4,
   "id": "7bb80df1",
   "metadata": {},
   "outputs": [
    {
     "data": {
      "text/plain": [
       "Gender                            0\n",
       "Age                               0\n",
       "Height                            0\n",
       "Weight                            0\n",
       "family_history_with_overweight    0\n",
       "FAVC                              0\n",
       "FCVC                              0\n",
       "NCP                               0\n",
       "CAEC                              0\n",
       "SMOKE                             0\n",
       "CH2O                              0\n",
       "SCC                               0\n",
       "FAF                               0\n",
       "TUE                               0\n",
       "CALC                              0\n",
       "MTRANS                            0\n",
       "NObeyesdad                        0\n",
       "dtype: int64"
      ]
     },
     "execution_count": 4,
     "metadata": {},
     "output_type": "execute_result"
    }
   ],
   "source": [
    "# checking for the null value in dataset\n",
    "data.isnull().sum()"
   ]
  },
  {
   "cell_type": "markdown",
   "id": "ddbe79ed",
   "metadata": {},
   "source": [
    "since there is no null value we can continue to data processing"
   ]
  },
  {
   "cell_type": "code",
   "execution_count": 5,
   "id": "5a256b06",
   "metadata": {},
   "outputs": [],
   "source": [
    "# radomizing the order in dataset\n",
    "data = data.sample(frac=1).reset_index(drop=True)"
   ]
  },
  {
   "cell_type": "code",
   "execution_count": 6,
   "id": "af991449",
   "metadata": {},
   "outputs": [
    {
     "data": {
      "text/html": [
       "<div>\n",
       "<style scoped>\n",
       "    .dataframe tbody tr th:only-of-type {\n",
       "        vertical-align: middle;\n",
       "    }\n",
       "\n",
       "    .dataframe tbody tr th {\n",
       "        vertical-align: top;\n",
       "    }\n",
       "\n",
       "    .dataframe thead th {\n",
       "        text-align: right;\n",
       "    }\n",
       "</style>\n",
       "<table border=\"1\" class=\"dataframe\">\n",
       "  <thead>\n",
       "    <tr style=\"text-align: right;\">\n",
       "      <th></th>\n",
       "      <th>Gender</th>\n",
       "      <th>Age</th>\n",
       "      <th>Height</th>\n",
       "      <th>Weight</th>\n",
       "      <th>family_history_with_overweight</th>\n",
       "      <th>FAVC</th>\n",
       "      <th>FCVC</th>\n",
       "      <th>NCP</th>\n",
       "      <th>CAEC</th>\n",
       "      <th>SMOKE</th>\n",
       "      <th>CH2O</th>\n",
       "      <th>SCC</th>\n",
       "      <th>FAF</th>\n",
       "      <th>TUE</th>\n",
       "      <th>CALC</th>\n",
       "      <th>MTRANS</th>\n",
       "    </tr>\n",
       "  </thead>\n",
       "  <tbody>\n",
       "    <tr>\n",
       "      <th>0</th>\n",
       "      <td>Female</td>\n",
       "      <td>22.000000</td>\n",
       "      <td>1.650000</td>\n",
       "      <td>65.00000</td>\n",
       "      <td>yes</td>\n",
       "      <td>yes</td>\n",
       "      <td>2.000000</td>\n",
       "      <td>3.000000</td>\n",
       "      <td>Frequently</td>\n",
       "      <td>no</td>\n",
       "      <td>2.000000</td>\n",
       "      <td>yes</td>\n",
       "      <td>1.00000</td>\n",
       "      <td>0.000000</td>\n",
       "      <td>no</td>\n",
       "      <td>Automobile</td>\n",
       "    </tr>\n",
       "    <tr>\n",
       "      <th>1</th>\n",
       "      <td>Male</td>\n",
       "      <td>28.421533</td>\n",
       "      <td>1.829239</td>\n",
       "      <td>107.10819</td>\n",
       "      <td>yes</td>\n",
       "      <td>yes</td>\n",
       "      <td>2.465575</td>\n",
       "      <td>2.935381</td>\n",
       "      <td>Sometimes</td>\n",
       "      <td>no</td>\n",
       "      <td>2.480555</td>\n",
       "      <td>no</td>\n",
       "      <td>1.00183</td>\n",
       "      <td>1.670313</td>\n",
       "      <td>Sometimes</td>\n",
       "      <td>Automobile</td>\n",
       "    </tr>\n",
       "    <tr>\n",
       "      <th>2</th>\n",
       "      <td>Female</td>\n",
       "      <td>17.000000</td>\n",
       "      <td>1.600000</td>\n",
       "      <td>65.00000</td>\n",
       "      <td>no</td>\n",
       "      <td>yes</td>\n",
       "      <td>3.000000</td>\n",
       "      <td>1.000000</td>\n",
       "      <td>Sometimes</td>\n",
       "      <td>no</td>\n",
       "      <td>2.000000</td>\n",
       "      <td>yes</td>\n",
       "      <td>1.00000</td>\n",
       "      <td>2.000000</td>\n",
       "      <td>Sometimes</td>\n",
       "      <td>Public_Transportation</td>\n",
       "    </tr>\n",
       "    <tr>\n",
       "      <th>3</th>\n",
       "      <td>Female</td>\n",
       "      <td>16.000000</td>\n",
       "      <td>1.660000</td>\n",
       "      <td>58.00000</td>\n",
       "      <td>no</td>\n",
       "      <td>no</td>\n",
       "      <td>2.000000</td>\n",
       "      <td>1.000000</td>\n",
       "      <td>Sometimes</td>\n",
       "      <td>no</td>\n",
       "      <td>1.000000</td>\n",
       "      <td>no</td>\n",
       "      <td>0.00000</td>\n",
       "      <td>1.000000</td>\n",
       "      <td>no</td>\n",
       "      <td>Walking</td>\n",
       "    </tr>\n",
       "    <tr>\n",
       "      <th>4</th>\n",
       "      <td>Female</td>\n",
       "      <td>22.000000</td>\n",
       "      <td>1.580000</td>\n",
       "      <td>58.00000</td>\n",
       "      <td>yes</td>\n",
       "      <td>yes</td>\n",
       "      <td>2.000000</td>\n",
       "      <td>1.000000</td>\n",
       "      <td>Sometimes</td>\n",
       "      <td>no</td>\n",
       "      <td>1.000000</td>\n",
       "      <td>no</td>\n",
       "      <td>0.00000</td>\n",
       "      <td>0.000000</td>\n",
       "      <td>no</td>\n",
       "      <td>Public_Transportation</td>\n",
       "    </tr>\n",
       "  </tbody>\n",
       "</table>\n",
       "</div>"
      ],
      "text/plain": [
       "   Gender        Age    Height     Weight family_history_with_overweight FAVC  \\\n",
       "0  Female  22.000000  1.650000   65.00000                            yes  yes   \n",
       "1    Male  28.421533  1.829239  107.10819                            yes  yes   \n",
       "2  Female  17.000000  1.600000   65.00000                             no  yes   \n",
       "3  Female  16.000000  1.660000   58.00000                             no   no   \n",
       "4  Female  22.000000  1.580000   58.00000                            yes  yes   \n",
       "\n",
       "       FCVC       NCP        CAEC SMOKE      CH2O  SCC      FAF       TUE  \\\n",
       "0  2.000000  3.000000  Frequently    no  2.000000  yes  1.00000  0.000000   \n",
       "1  2.465575  2.935381   Sometimes    no  2.480555   no  1.00183  1.670313   \n",
       "2  3.000000  1.000000   Sometimes    no  2.000000  yes  1.00000  2.000000   \n",
       "3  2.000000  1.000000   Sometimes    no  1.000000   no  0.00000  1.000000   \n",
       "4  2.000000  1.000000   Sometimes    no  1.000000   no  0.00000  0.000000   \n",
       "\n",
       "        CALC                 MTRANS  \n",
       "0         no             Automobile  \n",
       "1  Sometimes             Automobile  \n",
       "2  Sometimes  Public_Transportation  \n",
       "3         no                Walking  \n",
       "4         no  Public_Transportation  "
      ]
     },
     "execution_count": 6,
     "metadata": {},
     "output_type": "execute_result"
    }
   ],
   "source": [
    "# seperating data into classes and variables\n",
    "variables = data.iloc[:,: -1]\n",
    "classes = data.iloc[:, -1]\n",
    "variables.head()"
   ]
  },
  {
   "cell_type": "code",
   "execution_count": 7,
   "id": "bcde07ad",
   "metadata": {},
   "outputs": [
    {
     "data": {
      "text/html": [
       "<div>\n",
       "<style scoped>\n",
       "    .dataframe tbody tr th:only-of-type {\n",
       "        vertical-align: middle;\n",
       "    }\n",
       "\n",
       "    .dataframe tbody tr th {\n",
       "        vertical-align: top;\n",
       "    }\n",
       "\n",
       "    .dataframe thead th {\n",
       "        text-align: right;\n",
       "    }\n",
       "</style>\n",
       "<table border=\"1\" class=\"dataframe\">\n",
       "  <thead>\n",
       "    <tr style=\"text-align: right;\">\n",
       "      <th></th>\n",
       "      <th>Gender</th>\n",
       "      <th>Age</th>\n",
       "      <th>family_history_with_overweight</th>\n",
       "      <th>FAVC</th>\n",
       "      <th>FCVC</th>\n",
       "      <th>NCP</th>\n",
       "      <th>CAEC</th>\n",
       "      <th>SMOKE</th>\n",
       "      <th>CH2O</th>\n",
       "      <th>SCC</th>\n",
       "      <th>FAF</th>\n",
       "      <th>TUE</th>\n",
       "      <th>CALC</th>\n",
       "      <th>MTRANS</th>\n",
       "    </tr>\n",
       "  </thead>\n",
       "  <tbody>\n",
       "    <tr>\n",
       "      <th>0</th>\n",
       "      <td>Female</td>\n",
       "      <td>22.000000</td>\n",
       "      <td>yes</td>\n",
       "      <td>yes</td>\n",
       "      <td>2.000000</td>\n",
       "      <td>3.000000</td>\n",
       "      <td>Frequently</td>\n",
       "      <td>no</td>\n",
       "      <td>2.000000</td>\n",
       "      <td>yes</td>\n",
       "      <td>1.00000</td>\n",
       "      <td>0.000000</td>\n",
       "      <td>no</td>\n",
       "      <td>Automobile</td>\n",
       "    </tr>\n",
       "    <tr>\n",
       "      <th>1</th>\n",
       "      <td>Male</td>\n",
       "      <td>28.421533</td>\n",
       "      <td>yes</td>\n",
       "      <td>yes</td>\n",
       "      <td>2.465575</td>\n",
       "      <td>2.935381</td>\n",
       "      <td>Sometimes</td>\n",
       "      <td>no</td>\n",
       "      <td>2.480555</td>\n",
       "      <td>no</td>\n",
       "      <td>1.00183</td>\n",
       "      <td>1.670313</td>\n",
       "      <td>Sometimes</td>\n",
       "      <td>Automobile</td>\n",
       "    </tr>\n",
       "    <tr>\n",
       "      <th>2</th>\n",
       "      <td>Female</td>\n",
       "      <td>17.000000</td>\n",
       "      <td>no</td>\n",
       "      <td>yes</td>\n",
       "      <td>3.000000</td>\n",
       "      <td>1.000000</td>\n",
       "      <td>Sometimes</td>\n",
       "      <td>no</td>\n",
       "      <td>2.000000</td>\n",
       "      <td>yes</td>\n",
       "      <td>1.00000</td>\n",
       "      <td>2.000000</td>\n",
       "      <td>Sometimes</td>\n",
       "      <td>Public_Transportation</td>\n",
       "    </tr>\n",
       "    <tr>\n",
       "      <th>3</th>\n",
       "      <td>Female</td>\n",
       "      <td>16.000000</td>\n",
       "      <td>no</td>\n",
       "      <td>no</td>\n",
       "      <td>2.000000</td>\n",
       "      <td>1.000000</td>\n",
       "      <td>Sometimes</td>\n",
       "      <td>no</td>\n",
       "      <td>1.000000</td>\n",
       "      <td>no</td>\n",
       "      <td>0.00000</td>\n",
       "      <td>1.000000</td>\n",
       "      <td>no</td>\n",
       "      <td>Walking</td>\n",
       "    </tr>\n",
       "    <tr>\n",
       "      <th>4</th>\n",
       "      <td>Female</td>\n",
       "      <td>22.000000</td>\n",
       "      <td>yes</td>\n",
       "      <td>yes</td>\n",
       "      <td>2.000000</td>\n",
       "      <td>1.000000</td>\n",
       "      <td>Sometimes</td>\n",
       "      <td>no</td>\n",
       "      <td>1.000000</td>\n",
       "      <td>no</td>\n",
       "      <td>0.00000</td>\n",
       "      <td>0.000000</td>\n",
       "      <td>no</td>\n",
       "      <td>Public_Transportation</td>\n",
       "    </tr>\n",
       "  </tbody>\n",
       "</table>\n",
       "</div>"
      ],
      "text/plain": [
       "   Gender        Age family_history_with_overweight FAVC      FCVC       NCP  \\\n",
       "0  Female  22.000000                            yes  yes  2.000000  3.000000   \n",
       "1    Male  28.421533                            yes  yes  2.465575  2.935381   \n",
       "2  Female  17.000000                             no  yes  3.000000  1.000000   \n",
       "3  Female  16.000000                             no   no  2.000000  1.000000   \n",
       "4  Female  22.000000                            yes  yes  2.000000  1.000000   \n",
       "\n",
       "         CAEC SMOKE      CH2O  SCC      FAF       TUE       CALC  \\\n",
       "0  Frequently    no  2.000000  yes  1.00000  0.000000         no   \n",
       "1   Sometimes    no  2.480555   no  1.00183  1.670313  Sometimes   \n",
       "2   Sometimes    no  2.000000  yes  1.00000  2.000000  Sometimes   \n",
       "3   Sometimes    no  1.000000   no  0.00000  1.000000         no   \n",
       "4   Sometimes    no  1.000000   no  0.00000  0.000000         no   \n",
       "\n",
       "                  MTRANS  \n",
       "0             Automobile  \n",
       "1             Automobile  \n",
       "2  Public_Transportation  \n",
       "3                Walking  \n",
       "4  Public_Transportation  "
      ]
     },
     "execution_count": 7,
     "metadata": {},
     "output_type": "execute_result"
    }
   ],
   "source": [
    "# since height and weight is a function of body type, we will drop these two variables to focus on the other risk factors\n",
    "variables = variables.drop('Height', axis=1)\n",
    "variables = variables.drop('Weight', axis=1)\n",
    "variables.head()"
   ]
  },
  {
   "cell_type": "code",
   "execution_count": 8,
   "id": "c7390921",
   "metadata": {},
   "outputs": [
    {
     "data": {
      "text/html": [
       "<div>\n",
       "<style scoped>\n",
       "    .dataframe tbody tr th:only-of-type {\n",
       "        vertical-align: middle;\n",
       "    }\n",
       "\n",
       "    .dataframe tbody tr th {\n",
       "        vertical-align: top;\n",
       "    }\n",
       "\n",
       "    .dataframe thead th {\n",
       "        text-align: right;\n",
       "    }\n",
       "</style>\n",
       "<table border=\"1\" class=\"dataframe\">\n",
       "  <thead>\n",
       "    <tr style=\"text-align: right;\">\n",
       "      <th></th>\n",
       "      <th>Gender</th>\n",
       "      <th>Age</th>\n",
       "      <th>family_history_with_overweight</th>\n",
       "      <th>FAVC</th>\n",
       "      <th>FCVC</th>\n",
       "      <th>NCP</th>\n",
       "      <th>CAEC</th>\n",
       "      <th>SMOKE</th>\n",
       "      <th>CH2O</th>\n",
       "      <th>SCC</th>\n",
       "      <th>FAF</th>\n",
       "      <th>TUE</th>\n",
       "      <th>CALC</th>\n",
       "      <th>MTRANS</th>\n",
       "    </tr>\n",
       "  </thead>\n",
       "  <tbody>\n",
       "    <tr>\n",
       "      <th>0</th>\n",
       "      <td>1</td>\n",
       "      <td>22.000000</td>\n",
       "      <td>1</td>\n",
       "      <td>1</td>\n",
       "      <td>2.000000</td>\n",
       "      <td>3.000000</td>\n",
       "      <td>2</td>\n",
       "      <td>0</td>\n",
       "      <td>2.000000</td>\n",
       "      <td>1</td>\n",
       "      <td>1.00000</td>\n",
       "      <td>0.000000</td>\n",
       "      <td>0</td>\n",
       "      <td>Automobile</td>\n",
       "    </tr>\n",
       "    <tr>\n",
       "      <th>1</th>\n",
       "      <td>0</td>\n",
       "      <td>28.421533</td>\n",
       "      <td>1</td>\n",
       "      <td>1</td>\n",
       "      <td>2.465575</td>\n",
       "      <td>2.935381</td>\n",
       "      <td>1</td>\n",
       "      <td>0</td>\n",
       "      <td>2.480555</td>\n",
       "      <td>0</td>\n",
       "      <td>1.00183</td>\n",
       "      <td>1.670313</td>\n",
       "      <td>1</td>\n",
       "      <td>Automobile</td>\n",
       "    </tr>\n",
       "    <tr>\n",
       "      <th>2</th>\n",
       "      <td>1</td>\n",
       "      <td>17.000000</td>\n",
       "      <td>0</td>\n",
       "      <td>1</td>\n",
       "      <td>3.000000</td>\n",
       "      <td>1.000000</td>\n",
       "      <td>1</td>\n",
       "      <td>0</td>\n",
       "      <td>2.000000</td>\n",
       "      <td>1</td>\n",
       "      <td>1.00000</td>\n",
       "      <td>2.000000</td>\n",
       "      <td>1</td>\n",
       "      <td>Public_Transportation</td>\n",
       "    </tr>\n",
       "    <tr>\n",
       "      <th>3</th>\n",
       "      <td>1</td>\n",
       "      <td>16.000000</td>\n",
       "      <td>0</td>\n",
       "      <td>0</td>\n",
       "      <td>2.000000</td>\n",
       "      <td>1.000000</td>\n",
       "      <td>1</td>\n",
       "      <td>0</td>\n",
       "      <td>1.000000</td>\n",
       "      <td>0</td>\n",
       "      <td>0.00000</td>\n",
       "      <td>1.000000</td>\n",
       "      <td>0</td>\n",
       "      <td>Walking</td>\n",
       "    </tr>\n",
       "    <tr>\n",
       "      <th>4</th>\n",
       "      <td>1</td>\n",
       "      <td>22.000000</td>\n",
       "      <td>1</td>\n",
       "      <td>1</td>\n",
       "      <td>2.000000</td>\n",
       "      <td>1.000000</td>\n",
       "      <td>1</td>\n",
       "      <td>0</td>\n",
       "      <td>1.000000</td>\n",
       "      <td>0</td>\n",
       "      <td>0.00000</td>\n",
       "      <td>0.000000</td>\n",
       "      <td>0</td>\n",
       "      <td>Public_Transportation</td>\n",
       "    </tr>\n",
       "  </tbody>\n",
       "</table>\n",
       "</div>"
      ],
      "text/plain": [
       "   Gender        Age  family_history_with_overweight  FAVC      FCVC  \\\n",
       "0       1  22.000000                               1     1  2.000000   \n",
       "1       0  28.421533                               1     1  2.465575   \n",
       "2       1  17.000000                               0     1  3.000000   \n",
       "3       1  16.000000                               0     0  2.000000   \n",
       "4       1  22.000000                               1     1  2.000000   \n",
       "\n",
       "        NCP  CAEC  SMOKE      CH2O  SCC      FAF       TUE  CALC  \\\n",
       "0  3.000000     2      0  2.000000    1  1.00000  0.000000     0   \n",
       "1  2.935381     1      0  2.480555    0  1.00183  1.670313     1   \n",
       "2  1.000000     1      0  2.000000    1  1.00000  2.000000     1   \n",
       "3  1.000000     1      0  1.000000    0  0.00000  1.000000     0   \n",
       "4  1.000000     1      0  1.000000    0  0.00000  0.000000     0   \n",
       "\n",
       "                  MTRANS  \n",
       "0             Automobile  \n",
       "1             Automobile  \n",
       "2  Public_Transportation  \n",
       "3                Walking  \n",
       "4  Public_Transportation  "
      ]
     },
     "execution_count": 8,
     "metadata": {},
     "output_type": "execute_result"
    }
   ],
   "source": [
    "# encoding variable into binomial and numerical value\n",
    "var_encoding = {'Gender':                         {'Male': 0, 'Female': 1},\n",
    "                'family_history_with_overweight': {'yes': 1, 'no': 0},\n",
    "                'FAVC':                           {'yes': 1, 'no': 0},\n",
    "                'CAEC':                           {'no': 0, 'Sometimes': 1,\n",
    "                                                  'Frequently': 2, 'Always': 3},\n",
    "                'SMOKE':                          {'yes': 1, 'no': 0},\n",
    "                'SCC':                            {'yes': 1, 'no': 0},\n",
    "                'CALC':                           {'no': 0, 'Sometimes': 1,\n",
    "                                                  'Frequently': 2, 'Always': 3}}\n",
    "variables = variables.replace(var_encoding)\n",
    "variables.head()"
   ]
  },
  {
   "cell_type": "code",
   "execution_count": 9,
   "id": "586f923c",
   "metadata": {},
   "outputs": [
    {
     "data": {
      "text/html": [
       "<div>\n",
       "<style scoped>\n",
       "    .dataframe tbody tr th:only-of-type {\n",
       "        vertical-align: middle;\n",
       "    }\n",
       "\n",
       "    .dataframe tbody tr th {\n",
       "        vertical-align: top;\n",
       "    }\n",
       "\n",
       "    .dataframe thead th {\n",
       "        text-align: right;\n",
       "    }\n",
       "</style>\n",
       "<table border=\"1\" class=\"dataframe\">\n",
       "  <thead>\n",
       "    <tr style=\"text-align: right;\">\n",
       "      <th></th>\n",
       "      <th>Automobile</th>\n",
       "      <th>Bike</th>\n",
       "      <th>Motorbike</th>\n",
       "      <th>Public_Transportation</th>\n",
       "      <th>Walking</th>\n",
       "    </tr>\n",
       "  </thead>\n",
       "  <tbody>\n",
       "    <tr>\n",
       "      <th>0</th>\n",
       "      <td>1</td>\n",
       "      <td>0</td>\n",
       "      <td>0</td>\n",
       "      <td>0</td>\n",
       "      <td>0</td>\n",
       "    </tr>\n",
       "    <tr>\n",
       "      <th>1</th>\n",
       "      <td>1</td>\n",
       "      <td>0</td>\n",
       "      <td>0</td>\n",
       "      <td>0</td>\n",
       "      <td>0</td>\n",
       "    </tr>\n",
       "    <tr>\n",
       "      <th>2</th>\n",
       "      <td>0</td>\n",
       "      <td>0</td>\n",
       "      <td>0</td>\n",
       "      <td>1</td>\n",
       "      <td>0</td>\n",
       "    </tr>\n",
       "    <tr>\n",
       "      <th>3</th>\n",
       "      <td>0</td>\n",
       "      <td>0</td>\n",
       "      <td>0</td>\n",
       "      <td>0</td>\n",
       "      <td>1</td>\n",
       "    </tr>\n",
       "    <tr>\n",
       "      <th>4</th>\n",
       "      <td>0</td>\n",
       "      <td>0</td>\n",
       "      <td>0</td>\n",
       "      <td>1</td>\n",
       "      <td>0</td>\n",
       "    </tr>\n",
       "  </tbody>\n",
       "</table>\n",
       "</div>"
      ],
      "text/plain": [
       "   Automobile  Bike  Motorbike  Public_Transportation  Walking\n",
       "0           1     0          0                      0        0\n",
       "1           1     0          0                      0        0\n",
       "2           0     0          0                      1        0\n",
       "3           0     0          0                      0        1\n",
       "4           0     0          0                      1        0"
      ]
     },
     "execution_count": 9,
     "metadata": {},
     "output_type": "execute_result"
    }
   ],
   "source": [
    "# for MTRANS, we will use one-hot encoding method since their is no linear relationship between each variables\n",
    "mtrans = pd.get_dummies(variables['MTRANS'])\n",
    "mtrans.head()"
   ]
  },
  {
   "cell_type": "code",
   "execution_count": 10,
   "id": "582ea716",
   "metadata": {
    "scrolled": true
   },
   "outputs": [
    {
     "data": {
      "text/html": [
       "<div>\n",
       "<style scoped>\n",
       "    .dataframe tbody tr th:only-of-type {\n",
       "        vertical-align: middle;\n",
       "    }\n",
       "\n",
       "    .dataframe tbody tr th {\n",
       "        vertical-align: top;\n",
       "    }\n",
       "\n",
       "    .dataframe thead th {\n",
       "        text-align: right;\n",
       "    }\n",
       "</style>\n",
       "<table border=\"1\" class=\"dataframe\">\n",
       "  <thead>\n",
       "    <tr style=\"text-align: right;\">\n",
       "      <th></th>\n",
       "      <th>Gender</th>\n",
       "      <th>Age</th>\n",
       "      <th>family_history_with_overweight</th>\n",
       "      <th>FAVC</th>\n",
       "      <th>FCVC</th>\n",
       "      <th>NCP</th>\n",
       "      <th>CAEC</th>\n",
       "      <th>SMOKE</th>\n",
       "      <th>CH2O</th>\n",
       "      <th>SCC</th>\n",
       "      <th>FAF</th>\n",
       "      <th>TUE</th>\n",
       "      <th>CALC</th>\n",
       "      <th>Automobile</th>\n",
       "      <th>Bike</th>\n",
       "      <th>Motorbike</th>\n",
       "      <th>Public_Transportation</th>\n",
       "      <th>Walking</th>\n",
       "    </tr>\n",
       "  </thead>\n",
       "  <tbody>\n",
       "    <tr>\n",
       "      <th>0</th>\n",
       "      <td>1</td>\n",
       "      <td>22.000000</td>\n",
       "      <td>1</td>\n",
       "      <td>1</td>\n",
       "      <td>2.000000</td>\n",
       "      <td>3.000000</td>\n",
       "      <td>2</td>\n",
       "      <td>0</td>\n",
       "      <td>2.000000</td>\n",
       "      <td>1</td>\n",
       "      <td>1.00000</td>\n",
       "      <td>0.000000</td>\n",
       "      <td>0</td>\n",
       "      <td>1</td>\n",
       "      <td>0</td>\n",
       "      <td>0</td>\n",
       "      <td>0</td>\n",
       "      <td>0</td>\n",
       "    </tr>\n",
       "    <tr>\n",
       "      <th>1</th>\n",
       "      <td>0</td>\n",
       "      <td>28.421533</td>\n",
       "      <td>1</td>\n",
       "      <td>1</td>\n",
       "      <td>2.465575</td>\n",
       "      <td>2.935381</td>\n",
       "      <td>1</td>\n",
       "      <td>0</td>\n",
       "      <td>2.480555</td>\n",
       "      <td>0</td>\n",
       "      <td>1.00183</td>\n",
       "      <td>1.670313</td>\n",
       "      <td>1</td>\n",
       "      <td>1</td>\n",
       "      <td>0</td>\n",
       "      <td>0</td>\n",
       "      <td>0</td>\n",
       "      <td>0</td>\n",
       "    </tr>\n",
       "    <tr>\n",
       "      <th>2</th>\n",
       "      <td>1</td>\n",
       "      <td>17.000000</td>\n",
       "      <td>0</td>\n",
       "      <td>1</td>\n",
       "      <td>3.000000</td>\n",
       "      <td>1.000000</td>\n",
       "      <td>1</td>\n",
       "      <td>0</td>\n",
       "      <td>2.000000</td>\n",
       "      <td>1</td>\n",
       "      <td>1.00000</td>\n",
       "      <td>2.000000</td>\n",
       "      <td>1</td>\n",
       "      <td>0</td>\n",
       "      <td>0</td>\n",
       "      <td>0</td>\n",
       "      <td>1</td>\n",
       "      <td>0</td>\n",
       "    </tr>\n",
       "    <tr>\n",
       "      <th>3</th>\n",
       "      <td>1</td>\n",
       "      <td>16.000000</td>\n",
       "      <td>0</td>\n",
       "      <td>0</td>\n",
       "      <td>2.000000</td>\n",
       "      <td>1.000000</td>\n",
       "      <td>1</td>\n",
       "      <td>0</td>\n",
       "      <td>1.000000</td>\n",
       "      <td>0</td>\n",
       "      <td>0.00000</td>\n",
       "      <td>1.000000</td>\n",
       "      <td>0</td>\n",
       "      <td>0</td>\n",
       "      <td>0</td>\n",
       "      <td>0</td>\n",
       "      <td>0</td>\n",
       "      <td>1</td>\n",
       "    </tr>\n",
       "    <tr>\n",
       "      <th>4</th>\n",
       "      <td>1</td>\n",
       "      <td>22.000000</td>\n",
       "      <td>1</td>\n",
       "      <td>1</td>\n",
       "      <td>2.000000</td>\n",
       "      <td>1.000000</td>\n",
       "      <td>1</td>\n",
       "      <td>0</td>\n",
       "      <td>1.000000</td>\n",
       "      <td>0</td>\n",
       "      <td>0.00000</td>\n",
       "      <td>0.000000</td>\n",
       "      <td>0</td>\n",
       "      <td>0</td>\n",
       "      <td>0</td>\n",
       "      <td>0</td>\n",
       "      <td>1</td>\n",
       "      <td>0</td>\n",
       "    </tr>\n",
       "  </tbody>\n",
       "</table>\n",
       "</div>"
      ],
      "text/plain": [
       "   Gender        Age  family_history_with_overweight  FAVC      FCVC  \\\n",
       "0       1  22.000000                               1     1  2.000000   \n",
       "1       0  28.421533                               1     1  2.465575   \n",
       "2       1  17.000000                               0     1  3.000000   \n",
       "3       1  16.000000                               0     0  2.000000   \n",
       "4       1  22.000000                               1     1  2.000000   \n",
       "\n",
       "        NCP  CAEC  SMOKE      CH2O  SCC      FAF       TUE  CALC  Automobile  \\\n",
       "0  3.000000     2      0  2.000000    1  1.00000  0.000000     0           1   \n",
       "1  2.935381     1      0  2.480555    0  1.00183  1.670313     1           1   \n",
       "2  1.000000     1      0  2.000000    1  1.00000  2.000000     1           0   \n",
       "3  1.000000     1      0  1.000000    0  0.00000  1.000000     0           0   \n",
       "4  1.000000     1      0  1.000000    0  0.00000  0.000000     0           0   \n",
       "\n",
       "   Bike  Motorbike  Public_Transportation  Walking  \n",
       "0     0          0                      0        0  \n",
       "1     0          0                      0        0  \n",
       "2     0          0                      1        0  \n",
       "3     0          0                      0        1  \n",
       "4     0          0                      1        0  "
      ]
     },
     "execution_count": 10,
     "metadata": {},
     "output_type": "execute_result"
    }
   ],
   "source": [
    "# combining the encoded MTRANS with the rest of the variables\n",
    "variables = variables.drop('MTRANS', axis=1)\n",
    "variables = pd.concat([variables, mtrans], axis=1)\n",
    "variables.head()"
   ]
  },
  {
   "cell_type": "code",
   "execution_count": 11,
   "id": "a187e8a9",
   "metadata": {},
   "outputs": [
    {
     "data": {
      "text/plain": [
       "0    Normal_Weight\n",
       "1          Obesity\n",
       "2       Overweight\n",
       "3    Normal_Weight\n",
       "4    Normal_Weight\n",
       "Name: NObeyesdad, dtype: object"
      ]
     },
     "execution_count": 11,
     "metadata": {},
     "output_type": "execute_result"
    }
   ],
   "source": [
    "# due to the limited data size, we will simplify the classes to make the task more managable for the algorityms\n",
    "cla_encoding = {'Overweight_Level_I': 'Overweight',\n",
    "               'Overweight_Level_II': 'Overweight',\n",
    "               'Obesity_Type_I':      'Obesity',\n",
    "               'Obesity_Type_II':     'Obesity',\n",
    "               'Obesity_Type_III':    'Obesity'}\n",
    "classes = classes.replace(cla_encoding)\n",
    "classes.head()"
   ]
  },
  {
   "cell_type": "markdown",
   "id": "5566977f",
   "metadata": {},
   "source": [
    "## Classification"
   ]
  },
  {
   "cell_type": "code",
   "execution_count": 12,
   "id": "5a4e7edb",
   "metadata": {},
   "outputs": [],
   "source": [
    "# creating a train test split\n",
    "X_train, X_test, y_train, y_test = train_test_split(variables, classes, test_size=0.2, random_state=0)"
   ]
  },
  {
   "cell_type": "markdown",
   "id": "38d26f6a",
   "metadata": {},
   "source": [
    "### Naive Bayes classifier"
   ]
  },
  {
   "cell_type": "code",
   "execution_count": 13,
   "id": "d18d14ad",
   "metadata": {},
   "outputs": [],
   "source": [
    "#creating a classifier\n",
    "nb_classifier = naive_bayes.MultinomialNB()"
   ]
  },
  {
   "cell_type": "code",
   "execution_count": 14,
   "id": "17b2bbaa",
   "metadata": {},
   "outputs": [
    {
     "data": {
      "text/plain": [
       "MultinomialNB()"
      ]
     },
     "execution_count": 14,
     "metadata": {},
     "output_type": "execute_result"
    }
   ],
   "source": [
    "#training the model\n",
    "nb_classifier.fit(X_train, y_train)"
   ]
  },
  {
   "cell_type": "code",
   "execution_count": 15,
   "id": "5cc89ba3",
   "metadata": {},
   "outputs": [
    {
     "name": "stdout",
     "output_type": "stream",
     "text": [
      "7.66 ms ± 382 µs per loop (mean ± std. dev. of 7 runs, 100 loops each)\n"
     ]
    }
   ],
   "source": [
    "# timing the processing time\n",
    "%timeit nb_classifier.fit(X_train, y_train)"
   ]
  },
  {
   "cell_type": "code",
   "execution_count": 16,
   "id": "ceb86122",
   "metadata": {},
   "outputs": [
    {
     "name": "stdout",
     "output_type": "stream",
     "text": [
      "The training accuracy is: 0.504739336492891\n",
      "The testing accuracy is: 0.541371158392435\n"
     ]
    }
   ],
   "source": [
    "# testing for in-sample and off-sample accuracy\n",
    "nb_y_train = nb_classifier.predict(X_train)\n",
    "nb_y_test = nb_classifier.predict(X_test)\n",
    "nb_train_acc = accuracy_score(y_train, nb_y_train)\n",
    "nb_test_acc = accuracy_score(y_test, nb_y_test)\n",
    "print('The training accuracy is:', nb_train_acc)\n",
    "print('The testing accuracy is:', nb_test_acc)"
   ]
  },
  {
   "cell_type": "code",
   "execution_count": 17,
   "id": "46f5490e",
   "metadata": {},
   "outputs": [
    {
     "name": "stdout",
     "output_type": "stream",
     "text": [
      "the 5-folds crossvalidation accuracy scores are: [0.50118203 0.50473934 0.51421801 0.51184834 0.50236967]\n",
      "the 5-folds crossvalidation mean score is: 0.5068714777094327\n",
      "the 5-folds crossvalidation varience is: 2.7184558833614674e-05\n"
     ]
    }
   ],
   "source": [
    "# 5-folds crossvalidation\n",
    "nb_5_folds = cross_val_score(nb_classifier, variables, classes, cv=5)\n",
    "nb_5_folds_mean = nb_5_folds.mean()\n",
    "nb_5_folds_var = nb_5_folds.var()\n",
    "print('the 5-folds crossvalidation accuracy scores are:', nb_5_folds)\n",
    "print('the 5-folds crossvalidation mean score is:', nb_5_folds_mean)\n",
    "print('the 5-folds crossvalidation varience is:', nb_5_folds_var)"
   ]
  },
  {
   "cell_type": "code",
   "execution_count": 18,
   "id": "6c71a017",
   "metadata": {},
   "outputs": [
    {
     "data": {
      "image/png": "[encoded data removed]",
      "text/plain": [
       "<Figure size 432x288 with 1 Axes>"
      ]
     },
     "metadata": {
      "needs_background": "light"
     },
     "output_type": "display_data"
    }
   ],
   "source": [
    "# creating a confusion matrix\n",
    "nb_matrix = confusion_matrix(y_test,nb_y_test)\n",
    "labels = ['Underweight', 'Normalweight', 'Overweight', 'Obesity']\n",
    "sns.heatmap(nb_matrix.T, square=True, annot=True, fmt='d', cbar=False,\n",
    "            xticklabels=labels, yticklabels=labels)\n",
    "plt.xlabel('true label')\n",
    "plt.ylabel('predicted label');"
   ]
  },
  {
   "cell_type": "markdown",
   "id": "8d1f6854",
   "metadata": {},
   "source": [
    "### Support Vector Machine Classifier"
   ]
  },
  {
   "cell_type": "code",
   "execution_count": 19,
   "id": "3c2b98ab",
   "metadata": {},
   "outputs": [],
   "source": [
    "#creating a classifier\n",
    "svm_classifier = svm.SVC()"
   ]
  },
  {
   "cell_type": "code",
   "execution_count": 20,
   "id": "7670bc77",
   "metadata": {
    "scrolled": true
   },
   "outputs": [
    {
     "data": {
      "text/plain": [
       "SVC()"
      ]
     },
     "execution_count": 20,
     "metadata": {},
     "output_type": "execute_result"
    }
   ],
   "source": [
    "#training the model\n",
    "svm_classifier.fit(X_train, y_train)"
   ]
  },
  {
   "cell_type": "code",
   "execution_count": 21,
   "id": "65dd38e0",
   "metadata": {},
   "outputs": [
    {
     "name": "stdout",
     "output_type": "stream",
     "text": [
      "370 ms ± 48.7 ms per loop (mean ± std. dev. of 7 runs, 1 loop each)\n"
     ]
    }
   ],
   "source": [
    "# timing the processing time\n",
    "%timeit svm_classifier.fit(X_train, y_train)"
   ]
  },
  {
   "cell_type": "code",
   "execution_count": 22,
   "id": "5eb79dde",
   "metadata": {},
   "outputs": [
    {
     "name": "stdout",
     "output_type": "stream",
     "text": [
      "The training accuracy is: 0.5029620853080569\n",
      "The testing sample accuracy is: 0.5177304964539007\n"
     ]
    }
   ],
   "source": [
    "# testing for in-sample and off-sample accuracy\n",
    "svm_y_train = svm_classifier.predict(X_train)\n",
    "svm_y_test = svm_classifier.predict(X_test)\n",
    "svm_train_acc = accuracy_score(y_train, svm_y_train)\n",
    "svm_test_acc = accuracy_score(y_test, svm_y_test)\n",
    "print('The training accuracy is:', svm_train_acc)\n",
    "print('The testing sample accuracy is:', svm_test_acc)"
   ]
  },
  {
   "cell_type": "code",
   "execution_count": 23,
   "id": "28adcaa0",
   "metadata": {},
   "outputs": [
    {
     "name": "stdout",
     "output_type": "stream",
     "text": [
      "the 5-folds crossvalidation accuracy scores are: [0.51536643 0.50473934 0.507109   0.52369668 0.51421801]\n",
      "the 5-folds crossvalidation mean score is: 0.5130258926870805\n",
      "the 5-folds crossvalidation varience is: 4.488831791876075e-05\n"
     ]
    }
   ],
   "source": [
    "# 5-folds crossvalidation\n",
    "svm_5_folds = cross_val_score(svm_classifier, variables, classes, cv=5)\n",
    "svm_5_folds_mean = svm_5_folds.mean()\n",
    "svm_5_folds_var = svm_5_folds.var()\n",
    "print('the 5-folds crossvalidation accuracy scores are:', svm_5_folds)\n",
    "print('the 5-folds crossvalidation mean score is:', svm_5_folds_mean)\n",
    "print('the 5-folds crossvalidation varience is:', svm_5_folds_var)"
   ]
  },
  {
   "cell_type": "code",
   "execution_count": 24,
   "id": "8fa5f456",
   "metadata": {},
   "outputs": [
    {
     "data": {
      "image/png": "[encoded data removed]",
      "text/plain": [
       "<Figure size 432x288 with 1 Axes>"
      ]
     },
     "metadata": {
      "needs_background": "light"
     },
     "output_type": "display_data"
    }
   ],
   "source": [
    "# creating a confusion matrix\n",
    "svm_matrix = confusion_matrix(y_test,svm_y_test)\n",
    "labels = ['Underweight', 'Normalweight', 'Overweight', 'Obesity']\n",
    "sns.heatmap(svm_matrix.T, square=True, annot=True, fmt='d', cbar=False,\n",
    "            xticklabels=labels, yticklabels=labels)\n",
    "plt.xlabel('true label')\n",
    "plt.ylabel('predicted label');"
   ]
  },
  {
   "cell_type": "markdown",
   "id": "5583eb5b",
   "metadata": {},
   "source": [
    "### Random Forest Classifier"
   ]
  },
  {
   "cell_type": "code",
   "execution_count": 25,
   "id": "57ecf950",
   "metadata": {},
   "outputs": [
    {
     "data": {
      "image/png": "[encoded data removed]",
      "text/plain": [
       "<Figure size 432x288 with 1 Axes>"
      ]
     },
     "metadata": {
      "needs_background": "light"
     },
     "output_type": "display_data"
    }
   ],
   "source": [
    "# mapping out the effect of number of trees to accuracy\n",
    "training_accuracy = []\n",
    "testing_accuracy = []\n",
    "for n in range(1 , 101):\n",
    "    classifier = ensemble.RandomForestClassifier(n_estimators=n)\n",
    "    classifier.fit(X_train, y_train)\n",
    "    training_accuracy.append(accuracy_score(y_train,\n",
    "                                            classifier.predict(X_train)))\n",
    "    testing_accuracy.append(accuracy_score(y_test,\n",
    "                                           classifier.predict(X_test)))\n",
    "plt.figure()\n",
    "plt.plot(np.arange(1, 101), training_accuracy, label='training accuracy')\n",
    "plt.plot(np.arange(1, 101), testing_accuracy, \n",
    "         label='testing accuracy')\n",
    "plt.title('training vs. testing Accuracy')\n",
    "plt.xlabel('number of trees')\n",
    "plt.ylabel('accuracy')\n",
    "plt.legend()\n",
    "plt.grid()\n",
    "plt.show()"
   ]
  },
  {
   "cell_type": "code",
   "execution_count": 26,
   "id": "c915a1ba",
   "metadata": {},
   "outputs": [],
   "source": [
    "#creating a classifier\n",
    "rf_classifier  = ensemble.RandomForestClassifier(n_estimators=40)"
   ]
  },
  {
   "cell_type": "code",
   "execution_count": 27,
   "id": "34578ffd",
   "metadata": {},
   "outputs": [
    {
     "data": {
      "text/plain": [
       "RandomForestClassifier(n_estimators=40)"
      ]
     },
     "execution_count": 27,
     "metadata": {},
     "output_type": "execute_result"
    }
   ],
   "source": [
    "#training the model\n",
    "rf_classifier.fit(X_train, y_train)"
   ]
  },
  {
   "cell_type": "code",
   "execution_count": 28,
   "id": "6d2bfc88",
   "metadata": {},
   "outputs": [
    {
     "name": "stdout",
     "output_type": "stream",
     "text": [
      "123 ms ± 12.1 ms per loop (mean ± std. dev. of 7 runs, 1 loop each)\n"
     ]
    }
   ],
   "source": [
    "# timing the processing time\n",
    "%timeit rf_classifier.fit(X_train, y_train)"
   ]
  },
  {
   "cell_type": "code",
   "execution_count": 29,
   "id": "eac329f6",
   "metadata": {},
   "outputs": [
    {
     "name": "stdout",
     "output_type": "stream",
     "text": [
      "The training is: 0.9994075829383886\n",
      "The testing accuracy is: 0.8747044917257684\n"
     ]
    }
   ],
   "source": [
    "# testing for in-sample and off-sample accuracy\n",
    "rf_y_train = rf_classifier.predict(X_train)\n",
    "rf_y_test = rf_classifier.predict(X_test)\n",
    "rf_train_acc = accuracy_score(y_train, rf_y_train)\n",
    "rf_test_acc = accuracy_score(y_test, rf_y_test)\n",
    "print('The training is:', rf_train_acc)\n",
    "print('The testing accuracy is:', rf_test_acc)"
   ]
  },
  {
   "cell_type": "code",
   "execution_count": 30,
   "id": "69ff3044",
   "metadata": {},
   "outputs": [
    {
     "name": "stdout",
     "output_type": "stream",
     "text": [
      "the 5-folds crossvalidation accuracy scores are: [0.86761229 0.86966825 0.87677725 0.86018957 0.86255924]\n",
      "the 5-folds crossvalidation mean score is: 0.8673613211880834\n",
      "the 5-folds crossvalidation varience is: 3.3707712319962395e-05\n"
     ]
    }
   ],
   "source": [
    "# 5-folds crossvalidation\n",
    "rf_5_folds = cross_val_score(rf_classifier, variables, classes, cv=5)\n",
    "rf_5_folds_mean = rf_5_folds.mean()\n",
    "rf_5_folds_var = rf_5_folds.var()\n",
    "print('the 5-folds crossvalidation accuracy scores are:', rf_5_folds)\n",
    "print('the 5-folds crossvalidation mean score is:', rf_5_folds_mean)\n",
    "print('the 5-folds crossvalidation varience is:', rf_5_folds_var)"
   ]
  },
  {
   "cell_type": "code",
   "execution_count": 31,
   "id": "16b9d5e4",
   "metadata": {},
   "outputs": [
    {
     "data": {
      "image/png": "[encoded data removed]",
      "text/plain": [
       "<Figure size 432x288 with 1 Axes>"
      ]
     },
     "metadata": {
      "needs_background": "light"
     },
     "output_type": "display_data"
    }
   ],
   "source": [
    "# creating a confusion matrix\n",
    "rf_matrix = confusion_matrix(y_test,rf_y_test)\n",
    "labels = ['Underweight', 'Normalweight', 'Overweight', 'Obesity']\n",
    "sns.heatmap(rf_matrix.T, square=True, annot=True, fmt='d', cbar=False,\n",
    "            xticklabels=labels, yticklabels=labels)\n",
    "plt.xlabel('true label')\n",
    "plt.ylabel('predicted label');"
   ]
  },
  {
   "cell_type": "code",
   "execution_count": null,
   "id": "aca2a86c",
   "metadata": {},
   "outputs": [],
   "source": []
  }
 ],
 "metadata": {
  "kernelspec": {
   "display_name": "Python 3",
   "language": "python",
   "name": "python3"
  },
  "language_info": {
   "codemirror_mode": {
    "name": "ipython",
    "version": 3
   },
   "file_extension": ".py",
   "mimetype": "text/x-python",
   "name": "python",
   "nbconvert_exporter": "python",
   "pygments_lexer": "ipython3",
   "version": "3.8.8"
  }
 },
 "nbformat": 4,
 "nbformat_minor": 5
}
