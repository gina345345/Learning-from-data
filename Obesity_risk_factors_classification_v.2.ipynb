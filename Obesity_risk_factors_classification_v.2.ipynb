{
 "cells": [
  {
   "cell_type": "markdown",
   "id": "4af04d53",
   "metadata": {},
   "source": [
    "# Obesity risk factors classification"
   ]
  },
  {
   "cell_type": "code",
   "execution_count": null,
   "id": "1cdb0b84",
   "metadata": {},
   "outputs": [],
   "source": [
    "# import the nescessary libraries\n",
    "import numpy as np\n",
    "import pandas as pd\n",
    "import matplotlib as mpl\n",
    "import matplotlib.pyplot as plt\n",
    "import seaborn as sns\n",
    "from sklearn import naive_bayes\n",
    "from sklearn import svm\n",
    "from sklearn import ensemble\n",
    "from sklearn.model_selection import train_test_split\n",
    "from sklearn.model_selection import cross_val_score\n",
    "from sklearn.metrics import accuracy_score\n",
    "from sklearn.metrics import confusion_matrix\n",
    "from sklearn.model_selection import GridSearchCV"
   ]
  },
  {
   "cell_type": "code",
   "execution_count": null,
   "id": "ec837903",
   "metadata": {},
   "outputs": [],
   "source": [
    "#importing the dataset\n",
    "file_path = 'ObesityDataSet_raw_and_data_sinthetic.csv'\n",
    "data = pd.read_csv(file_path)\n",
    "data.head()"
   ]
  },
  {
   "cell_type": "code",
   "execution_count": null,
   "id": "5e04f842",
   "metadata": {},
   "outputs": [],
   "source": [
    "#checking for the data size and types\n",
    "print(data.dtypes)\n",
    "print(data.shape)"
   ]
  },
  {
   "cell_type": "markdown",
   "id": "a0a1faeb",
   "metadata": {},
   "source": [
    "### Data cleaning and processing"
   ]
  },
  {
   "cell_type": "code",
   "execution_count": null,
   "id": "7bb80df1",
   "metadata": {},
   "outputs": [],
   "source": [
    "# checking for the null value in dataset\n",
    "data.isnull().sum()"
   ]
  },
  {
   "cell_type": "markdown",
   "id": "ddbe79ed",
   "metadata": {},
   "source": [
    "since there is no null value we can continue to data processing"
   ]
  },
  {
   "cell_type": "code",
   "execution_count": null,
   "id": "5a256b06",
   "metadata": {},
   "outputs": [],
   "source": [
    "# radomizing the order in dataset\n",
    "data = data.sample(frac=1, random_state=45).reset_index(drop=True)"
   ]
  },
  {
   "cell_type": "code",
   "execution_count": null,
   "id": "af991449",
   "metadata": {},
   "outputs": [],
   "source": [
    "# seperating data into classes and variables\n",
    "variables = data.iloc[:,: -1]\n",
    "classes = data.iloc[:, -1]\n",
    "variables.head()"
   ]
  },
  {
   "cell_type": "code",
   "execution_count": null,
   "id": "bcde07ad",
   "metadata": {},
   "outputs": [],
   "source": [
    "# since height and weight is a function of body type, we will drop these two variables to focus on the other risk factors\n",
    "variables = variables.drop('Height', axis=1)\n",
    "variables = variables.drop('Weight', axis=1)\n",
    "variables.head()"
   ]
  },
  {
   "cell_type": "code",
   "execution_count": null,
   "id": "c7390921",
   "metadata": {},
   "outputs": [],
   "source": [
    "# encoding variable into binomial and numerical value\n",
    "var_encoding = {'Gender':                         {'Male': 0, 'Female': 1},\n",
    "                'family_history_with_overweight': {'yes': 1, 'no': 0},\n",
    "                'FAVC':                           {'yes': 1, 'no': 0},\n",
    "                'CAEC':                           {'no': 0, 'Sometimes': 1,\n",
    "                                                  'Frequently': 2, 'Always': 3},\n",
    "                'SMOKE':                          {'yes': 1, 'no': 0},\n",
    "                'SCC':                            {'yes': 1, 'no': 0},\n",
    "                'CALC':                           {'no': 0, 'Sometimes': 1,\n",
    "                                                  'Frequently': 2, 'Always': 3}}\n",
    "variables = variables.replace(var_encoding)\n",
    "variables.head()"
   ]
  },
  {
   "cell_type": "code",
   "execution_count": null,
   "id": "586f923c",
   "metadata": {},
   "outputs": [],
   "source": [
    "# for MTRANS, we will use one-hot encoding method since their is no linear relationship between each variables\n",
    "mtrans = pd.get_dummies(variables['MTRANS'])\n",
    "mtrans.head()"
   ]
  },
  {
   "cell_type": "code",
   "execution_count": null,
   "id": "582ea716",
   "metadata": {
    "scrolled": true
   },
   "outputs": [],
   "source": [
    "# combining the encoded MTRANS with the rest of the variables\n",
    "variables = variables.drop('MTRANS', axis=1)\n",
    "variables = pd.concat([variables, mtrans], axis=1)\n",
    "variables.head()"
   ]
  },
  {
   "cell_type": "code",
   "execution_count": null,
   "id": "a187e8a9",
   "metadata": {},
   "outputs": [],
   "source": [
    "# due to the limited data size, we will simplify the classes to make the task more managable for the algorityms\n",
    "cla_encoding = {'Overweight_Level_I': 'Overweight',\n",
    "               'Overweight_Level_II': 'Overweight',\n",
    "               'Obesity_Type_I':      'Obesity',\n",
    "               'Obesity_Type_II':     'Obesity',\n",
    "               'Obesity_Type_III':    'Obesity'}\n",
    "classes = classes.replace(cla_encoding)\n",
    "classes.head()"
   ]
  },
  {
   "cell_type": "markdown",
   "id": "5566977f",
   "metadata": {},
   "source": [
    "## Classification"
   ]
  },
  {
   "cell_type": "code",
   "execution_count": null,
   "id": "5a4e7edb",
   "metadata": {},
   "outputs": [],
   "source": [
    "# creating a train test split\n",
    "X_train, X_test, y_train, y_test = train_test_split(variables, classes, test_size=0.2, random_state=0, stratify=classes)"
   ]
  },
  {
   "cell_type": "markdown",
   "id": "38d26f6a",
   "metadata": {},
   "source": [
    "### Naive Bayes classifier"
   ]
  },
  {
   "cell_type": "code",
   "execution_count": null,
   "id": "4fbb2a65",
   "metadata": {},
   "outputs": [],
   "source": [
    "# mapping out the effect of parameters to accuracy\n",
    "training_accuracy = []\n",
    "testing_accuracy = []\n",
    "alphas = range(0,51)\n",
    "for i in alphas:\n",
    "    classifier = naive_bayes.MultinomialNB(alpha=i, fit_prior=False)\n",
    "    classifier.fit(X_train, y_train)\n",
    "    training_accuracy.append(accuracy_score(y_train,\n",
    "                                            classifier.predict(X_train)))\n",
    "    testing_accuracy.append(accuracy_score(y_test,\n",
    "                                           classifier.predict(X_test)))\n",
    "plt.figure()\n",
    "plt.plot(alphas, training_accuracy, label='training accuracy')\n",
    "plt.plot(alphas, testing_accuracy, \n",
    "             label='testing accuracy')\n",
    "plt.title('Testing Accuracy by Parameter')\n",
    "plt.xlabel('alpha')\n",
    "plt.ylabel('accuracy')\n",
    "plt.legend()\n",
    "plt.grid()"
   ]
  },
  {
   "cell_type": "code",
   "execution_count": null,
   "id": "d18d14ad",
   "metadata": {},
   "outputs": [],
   "source": [
    "#creating a classifier\n",
    "nb_classifier = naive_bayes.MultinomialNB(alpha=1, fit_prior=False)"
   ]
  },
  {
   "cell_type": "code",
   "execution_count": null,
   "id": "17b2bbaa",
   "metadata": {},
   "outputs": [],
   "source": [
    "#training the model\n",
    "nb_classifier.fit(X_train, y_train)"
   ]
  },
  {
   "cell_type": "code",
   "execution_count": null,
   "id": "5cc89ba3",
   "metadata": {},
   "outputs": [],
   "source": [
    "# timing the processing time\n",
    "%timeit nb_classifier.fit(X_train, y_train)"
   ]
  },
  {
   "cell_type": "code",
   "execution_count": null,
   "id": "ceb86122",
   "metadata": {},
   "outputs": [],
   "source": [
    "# testing for in-sample and off-sample accuracy\n",
    "nb_y_train = nb_classifier.predict(X_train)\n",
    "nb_y_test = nb_classifier.predict(X_test)\n",
    "nb_train_acc = accuracy_score(y_train, nb_y_train)\n",
    "nb_test_acc = accuracy_score(y_test, nb_y_test)\n",
    "print('The training accuracy is:', nb_train_acc)\n",
    "print('The testing accuracy is:', nb_test_acc)"
   ]
  },
  {
   "cell_type": "code",
   "execution_count": null,
   "id": "46f5490e",
   "metadata": {},
   "outputs": [],
   "source": [
    "# 5-folds crossvalidation\n",
    "nb_5_folds = cross_val_score(nb_classifier, variables, classes, cv=5)\n",
    "nb_5_folds_mean = nb_5_folds.mean()\n",
    "nb_5_folds_var = nb_5_folds.var()\n",
    "print('the 5-folds crossvalidation accuracy scores are:', nb_5_folds)\n",
    "print('the 5-folds crossvalidation mean score is:', nb_5_folds_mean)\n",
    "print('the 5-folds crossvalidation varience is:', nb_5_folds_var)"
   ]
  },
  {
   "cell_type": "code",
   "execution_count": null,
   "id": "6c71a017",
   "metadata": {
    "scrolled": false
   },
   "outputs": [],
   "source": [
    "# creating a confusion matrix\n",
    "nb_matrix = confusion_matrix(y_test,nb_y_test)\n",
    "labels = ['Underweight', 'Normalweight', 'Overweight', 'Obesity']\n",
    "sns.heatmap(nb_matrix.T, square=True, annot=True, fmt='d', cbar=False,\n",
    "            xticklabels=labels, yticklabels=labels)\n",
    "plt.title('Confusion Matrix')\n",
    "plt.xlabel('true label')\n",
    "plt.ylabel('predicted label')"
   ]
  },
  {
   "cell_type": "markdown",
   "id": "8d1f6854",
   "metadata": {},
   "source": [
    "### Support Vector Machine Classifier"
   ]
  },
  {
   "cell_type": "code",
   "execution_count": null,
   "id": "0d6e01b7",
   "metadata": {},
   "outputs": [],
   "source": [
    "# mapping out the effect of parameters to accuracy\n",
    "kernels = ['linear', 'rbf', 'poly']\n",
    "scores = [1, 2, 3, 4, 5]\n",
    "kernel_cv = pd.DataFrame(index=scores, columns=kernels)\n",
    "for i in kernels:\n",
    "    clf = svm.SVC(kernel=i, random_state=45, gamma=0.1)\n",
    "    clf.fit(X_train, y_train)\n",
    "    cv = cross_val_score(clf, variables, classes, cv=5)\n",
    "    kernel_cv[i] = cv"
   ]
  },
  {
   "cell_type": "code",
   "execution_count": null,
   "id": "86925207",
   "metadata": {},
   "outputs": [],
   "source": [
    "sns.heatmap(kernel_cv)\n",
    "plt.title('CV score by kernal')\n",
    "plt.xlabel('kernels')"
   ]
  },
  {
   "cell_type": "code",
   "execution_count": null,
   "id": "3c2b98ab",
   "metadata": {},
   "outputs": [],
   "source": [
    "#creating a classifier\n",
    "model = svm.SCV(kernel='rbf')\n",
    "parameters = [{'C': [0.1, 1, 10, 100]\n",
    "              'gamma': [0.1, 0.05, 0.1]}]\n",
    "svm_classifier = GridSearchCV(svm.SVC(), parameters, scoring='accuracy')"
   ]
  },
  {
   "cell_type": "code",
   "execution_count": null,
   "id": "7670bc77",
   "metadata": {
    "scrolled": true
   },
   "outputs": [],
   "source": [
    "#training the model\n",
    "svm_classifier.fit(X_train, y_train)"
   ]
  },
  {
   "cell_type": "code",
   "execution_count": null,
   "id": "65dd38e0",
   "metadata": {},
   "outputs": [],
   "source": [
    "# timing the processing time\n",
    "%timeit svm_classifier.fit(X_train, y_train)"
   ]
  },
  {
   "cell_type": "code",
   "execution_count": null,
   "id": "5eb79dde",
   "metadata": {},
   "outputs": [],
   "source": [
    "# testing for in-sample and off-sample accuracy\n",
    "svm_y_train = svm_classifier.predict(X_train)\n",
    "svm_y_test = svm_classifier.predict(X_test)\n",
    "svm_train_acc = accuracy_score(y_train, svm_y_train)\n",
    "svm_test_acc = accuracy_score(y_test, svm_y_test)\n",
    "print('The training accuracy is:', svm_train_acc)\n",
    "print('The testing sample accuracy is:', svm_test_acc)"
   ]
  },
  {
   "cell_type": "code",
   "execution_count": null,
   "id": "28adcaa0",
   "metadata": {},
   "outputs": [],
   "source": [
    "# 5-folds crossvalidation\n",
    "svm_5_folds = cross_val_score(svm_classifier, variables, classes, cv=5)\n",
    "svm_5_folds_mean = svm_5_folds.mean()\n",
    "svm_5_folds_var = svm_5_folds.var()\n",
    "print('the 5-folds crossvalidation accuracy scores are:', svm_5_folds)\n",
    "print('the 5-folds crossvalidation mean score is:', svm_5_folds_mean)\n",
    "print('the 5-folds crossvalidation varience is:', svm_5_folds_var)"
   ]
  },
  {
   "cell_type": "code",
   "execution_count": null,
   "id": "8fa5f456",
   "metadata": {},
   "outputs": [],
   "source": [
    "# creating a confusion matrix\n",
    "svm_matrix = confusion_matrix(y_test,svm_y_test)\n",
    "labels = ['Underweight', 'Normalweight', 'Overweight', 'Obesity']\n",
    "sns.heatmap(svm_matrix.T, square=True, annot=True, fmt='d', cbar=False,\n",
    "            xticklabels=labels, yticklabels=labels)\n",
    "plt.title('Confusion Matrix')\n",
    "plt.xlabel('true label')\n",
    "plt.ylabel('predicted label')"
   ]
  },
  {
   "cell_type": "markdown",
   "id": "5583eb5b",
   "metadata": {},
   "source": [
    "### Random Forest Classifier"
   ]
  },
  {
   "cell_type": "code",
   "execution_count": null,
   "id": "57ecf950",
   "metadata": {},
   "outputs": [],
   "source": [
    "# mapping out the effect of parameters to accuracy\n",
    "acc_df = pd.DataFrame(columns=range(10 , 101, 10), index=range(10 , 201, 10))\n",
    "\n",
    "for i in range(10 , 201, 10):\n",
    "    for j in range(10 , 101, 10):\n",
    "        clf = ensemble.RandomForestClassifier(n_estimators=i, max_depth=j, random_state=30)\n",
    "        clf.fit(X_train, y_train)\n",
    "        cv = cross_val_score(clf, variables, classes, cv=5)\n",
    "        cv_mean = cv.mean()\n",
    "        acc_df.loc[i, j] = cv_mean\n",
    "\n",
    "acc_df = acc_df.astype('float')"
   ]
  },
  {
   "cell_type": "code",
   "execution_count": null,
   "id": "e39c2456",
   "metadata": {},
   "outputs": [],
   "source": [
    "sns.heatmap(acc_df.T, center=0.845)\n",
    "plt.title('Cross Validation Accuracy by Parameters')\n",
    "plt.xlabel('number of trees')\n",
    "plt.ylabel('tree depth')"
   ]
  },
  {
   "cell_type": "code",
   "execution_count": null,
   "id": "c915a1ba",
   "metadata": {},
   "outputs": [],
   "source": [
    "#creating a classifier\n",
    "parameters = [{'n_estimators': [10, 20, 30, 40, 50, 60, 70, 80, 90, 100]\n",
    "              'max_depth': [10, 20, 30, 40, 50, 60, 70, 80, 90, 100]}]\n",
    "rf_classifier = GridSearchCV(svm.SVC(), parameters, scoring='accuracy')\n",
    "rf_classifier  = ensemble.RandomForestClassifier(n_estimators=140, max_depth=30, random_state=30)"
   ]
  },
  {
   "cell_type": "code",
   "execution_count": null,
   "id": "34578ffd",
   "metadata": {},
   "outputs": [],
   "source": [
    "#training the model\n",
    "rf_classifier.fit(X_train, y_train)"
   ]
  },
  {
   "cell_type": "code",
   "execution_count": null,
   "id": "6d2bfc88",
   "metadata": {},
   "outputs": [],
   "source": [
    "# timing the processing time\n",
    "%timeit rf_classifier.fit(X_train, y_train)"
   ]
  },
  {
   "cell_type": "code",
   "execution_count": null,
   "id": "eac329f6",
   "metadata": {},
   "outputs": [],
   "source": [
    "# testing for in-sample and off-sample accuracy\n",
    "rf_y_train = rf_classifier.predict(X_train)\n",
    "rf_y_test = rf_classifier.predict(X_test)\n",
    "rf_train_acc = accuracy_score(y_train, rf_y_train)\n",
    "rf_test_acc = accuracy_score(y_test, rf_y_test)\n",
    "print('The training is:', rf_train_acc)\n",
    "print('The testing accuracy is:', rf_test_acc)"
   ]
  },
  {
   "cell_type": "code",
   "execution_count": null,
   "id": "69ff3044",
   "metadata": {},
   "outputs": [],
   "source": [
    "# 5-folds crossvalidation\n",
    "rf_5_folds = cross_val_score(rf_classifier, variables, classes, cv=5)\n",
    "rf_5_folds_mean = rf_5_folds.mean()\n",
    "rf_5_folds_var = rf_5_folds.var()\n",
    "print('the 5-folds crossvalidation accuracy scores are:', rf_5_folds)\n",
    "print('the 5-folds crossvalidation mean score is:', rf_5_folds_mean)\n",
    "print('the 5-folds crossvalidation varience is:', rf_5_folds_var)"
   ]
  },
  {
   "cell_type": "code",
   "execution_count": null,
   "id": "16b9d5e4",
   "metadata": {},
   "outputs": [],
   "source": [
    "# creating a confusion matrix\n",
    "rf_matrix = confusion_matrix(y_test,rf_y_test)\n",
    "labels = ['Underweight', 'Normalweight', 'Overweight', 'Obesity']\n",
    "sns.heatmap(rf_matrix.T, square=True, annot=True, fmt='d', cbar=False,\n",
    "            xticklabels=labels, yticklabels=labels)\n",
    "plt.title('Confusion Matrix')\n",
    "plt.xlabel('true label')\n",
    "plt.ylabel('predicted label')"
   ]
  },
  {
   "cell_type": "code",
   "execution_count": null,
   "id": "aca2a86c",
   "metadata": {},
   "outputs": [],
   "source": []
  }
 ],
 "metadata": {
  "kernelspec": {
   "display_name": "Python 3",
   "language": "python",
   "name": "python3"
  },
  "language_info": {
   "codemirror_mode": {
    "name": "ipython",
    "version": 3
   },
   "file_extension": ".py",
   "mimetype": "text/x-python",
   "name": "python",
   "nbconvert_exporter": "python",
   "pygments_lexer": "ipython3",
   "version": "3.8.8"
  }
 },
 "nbformat": 4,
 "nbformat_minor": 5
}
